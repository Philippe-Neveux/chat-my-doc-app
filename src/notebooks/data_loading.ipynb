{
 "cells": [
  {
   "cell_type": "code",
   "execution_count": null,
   "id": "3ce1fe25",
   "metadata": {},
   "outputs": [],
   "source": [
    "import os\n",
    "\n",
    "import polars as pl\n",
    "\n",
    "df_list = pl.read_csv(\"data/raw/IMDB_List.csv\")\n",
    "df_reviews = pl.read_csv(\"data/raw/IMDB_Reviews.csv\")\n",
    "\n",
    "df = (\n",
    "    df_reviews\n",
    "    .join(\n",
    "        df_list,\n",
    "        left_on=\"imdb_id\",\n",
    "        right_on=\"id\", \n",
    "        how=\"left\"\n",
    "    )\n",
    "    .drop(\"\")\n",
    "    .rename({\n",
    "        \"review title\": \"review_title\"\n",
    "    })\n",
    ")\n"
   ]
  },
  {
   "cell_type": "code",
   "execution_count": 6,
   "id": "08214651",
   "metadata": {},
   "outputs": [
    {
     "data": {
      "text/plain": [
       "'/Users/mac/Documents/code/gen-ai/chat-my-doc-app'"
      ]
     },
     "execution_count": 6,
     "metadata": {},
     "output_type": "execute_result"
    }
   ],
   "source": [
    "os.getcwd()"
   ]
  },
  {
   "cell_type": "code",
   "execution_count": null,
   "id": "1535af41",
   "metadata": {},
   "outputs": [
    {
     "data": {
      "application/vnd.microsoft.datawrangler.viewer.v0+json": {
       "columns": [
        {
         "name": "index",
         "rawType": "int64",
         "type": "integer"
        },
        {
         "name": "imdb_id",
         "rawType": "object",
         "type": "string"
        },
        {
         "name": "review_title",
         "rawType": "object",
         "type": "string"
        },
        {
         "name": "review_rating",
         "rawType": "float64",
         "type": "float"
        },
        {
         "name": "review",
         "rawType": "object",
         "type": "string"
        },
        {
         "name": "title",
         "rawType": "object",
         "type": "string"
        },
        {
         "name": "rating",
         "rawType": "float64",
         "type": "float"
        },
        {
         "name": "genre",
         "rawType": "object",
         "type": "string"
        },
        {
         "name": "year",
         "rawType": "int64",
         "type": "integer"
        }
       ],
       "ref": "bc962370-1dd5-4297-a7c4-6d473e38a838",
       "rows": [
        [
         "0",
         "tt0369610",
         "Spielberg Magic, This Is Not. Still, a Visit to Jurassic World Is Worth the Price of Admission.",
         "7.0",
         "You may have heard some critics champion Jurassic World as \"The best Jurassic Park sequel\", some fans declare that it \"brought them back to their childhood\", and others who may have made the absurd claim, \"It's better than the original\". Don't believe the hype. Jurassic World is nowhere close to the best Jurassic Park sequel (Spielberg's own, The Lost World: Jurassic Park, will always have that title). It is not going to bring you back to your childhood, and it doesn't hold a candle to what Steven Spielberg and crew accomplished with the original Jurassic Park. That being said, in a time of dark, self-serious, and pretentious blockbusters such as last year's Dawn of the Planet of the Apes or Christopher Nolan's Dark Knight films, Jurassic World is a refreshing antidote. Light, wholesome, and heavy on adventure, JW harkens back to the big Hollywood \"event\" blockbusters of the 80s and 90s. Let's just not pretend this is anything groundbreaking. The fourth Jurassic Park movie remembers to have fun with its premise, but Spielberg's magic touch is still sorely missed.Jurassic World is the latest film in the Jurassic Park franchise in name only. Call it a sequel, reboot, or re-quel, the fact remains, this is not the same world created by author Michael Crichton and made real by Spielberg and company in 1993. All the major characters from the first three films are gone. Alan Grant, Ellie Satler, Ian Malcolm, and the rest of the appealing and memorable characters of the earlier movies are replaced with broad movie archetypes and superfluous supporting characters. With respect to our new kid characters and Vincent D'Onofrio's bone-headed military grunt, the only two characters worth noting in Jurassic World are Owen Grady, a rugged dino-expert played by bona fide movie star Chris Pratt, and Claire Dearing, an uptight scientist played by Bryce Dallas-Howard. Both are really likable in doses, and the script doesn't subject us to too much of their dopey bantering. While Owen and Claire are cliched, and ultimately uninteresting, as characters, the charm and sheer star power of Pratt and Dallas-Howard are quite enough to bolster JW's brand of disposable summer adventuring.There's a neat little hook to the story of Jurassic World. After a re-branding of sorts, John Hammond's dream is finally realized and Jurassic Park is opened and fully operating. However, when the public begins to lose interest in seeing the same old dinosaurs, the scientists of Jurassic World are prompted to create an all-new hybrid dinosaur called the Indominus Rex. Well, you guessed it, that dinosaur escapes. Okay, so that's a clever solution to the classic Jurassic Park sequel dilemma, \"How does this stuff keep happening?\", but that plot line takes all of twenty minutes to peter into a chase picture, and a simple one at that. The few subplots are banal. Be it, two brothers who come to Jurassic World to spend time with their aunt, or a ridiculous plan to weaponize velociraptors (The latter of those subplots is one of the most embarrassingly stupid ideas I've seen in a movie in years), Jurassic World doesn't have much to get invested in besides big scary monsters running after people.There is one aspect of the film that I love, and that is the design of the Jurassic World Resort. The care that went into perfecting the look of the theme park is a great deal higher than the care that went into the story or the filmmaking. Jurassic World is a living, breathing place, and it is filled with all kinds of minor details that help sell the illusion. The triceratops petting zoo, the hamster ball ride, the souvenir shops, and scores of other theme park related details are touches that I was grateful made it into the film. There are more than a few nice moments where you get to enjoy the park as it was \"intended\". The immersion lasts throughout, even as the prehistoric psycho-killer, and all the destruction that it brings, takes center stage. Once the Indominus Rex gets out, and all Hell breaks loose, director Colin Trevorrow's filmmaking starts to show its deficiencies. Jurassic World is an impressive technical feat. The action is staged well, and the special effects and production designs are incredibly polished. It all looks like a million bucks (or 150 million to be exact), and it's all very fun, but when it comes to the meat of the movie, it's foolish to think that Jurassic World is anything more than Transformers with dinosaurs. In Jurassic Park and The Lost World, Steven Spielberg infused his action scenes with tension and suspense. There was a certain kind of visual poetry to the T-Rex attack in the first movie or the raptors in the grass scene from The Lost World. They were exhilarating because of their selective restraint. Without showing everything, Spielberg made scenes that were subtle and scary, and that exploded to life at just the right moments. Jurassic World's action scenes are big, loud, and entertaining, but it's all chaos, no technique. Trevorrow throws the kitchen sink into every shot. The Indominus Rex chomps up dozens of machine gun toting mercenaries, pterodactyls dart all over the screen pecking and biting everything in sight, and big, lumbering CGI beasts fight each other and destroy every last peanut brittle building around them. Sound familiar? It's the kind of Call of Duty-esque sensory bombardment that can be loads of fun to watch while you're there but doesn't leave the lasting impact of truly great action.So it is with Jurassic World. The movie is big, bright, and fun, with lots of action and good special effects. It pleases crowds. But as with most big budget crowd pleasers, it comes with dull characters, brain dead plotting and booming CGI overload. Jurassic World left me with the exact same feeling I got after seeing Jurassic Park 3. Both movies are serviceable summer romps, full of dino-action and great visual effects, but there is simply a noticeable dip in the quality of the production. Jurassic World successfully mines from the franchise name a good B-caliber FX spectacular. For dumb summer fun, it works. But there was a time when Jurassic Park aspired to more than dumb summer fun. Steven Spielberg's first two movies had class. They grappled with ideas, they were intelligent, they showcased real filmmaking, and they were genuinely thrilling. Jurassic World is colorful and entertaining, but let's be clear, when it's all said and done, nothing beats Spielberg. 74/100",
         "Jurassic World",
         "6.9",
         "Action, Adventure, Sci-Fi",
         "2015"
        ],
        [
         "1",
         "tt0369610",
         "Not a patch on the original Jurassic Park, and is an uneven film, but by far the best of the sequels",
         "7.0",
         "The original Jurassic Park still is a personal favourite, it is an enormously fun, thrilling (with some nail-biting moments) and brilliantly made film, with one of John Williams' most memorable main themes and scene-stealing dinosaurs. The Lost World has its admirers, but for me it was a major step-down and one of Spielberg's weakest films, and Jurassic Park 3 was even more disappointing.Jurassic World is not a patch on the first Jurassic Park and I didn't quite find it the return to form that it has been touted as, but for all its faults and uneven parts it is a massive improvements on the previous two sequels and is an entertaining film in its own right that does more right than it does wrong.First things off, Jurassic World is an incredibly well-made film, it's beautifully shot with scenery that's both colourful and atmospheric and the dinosaurs look wonderful. The dinosaurs also steal the film, not just their designs but also that they're lots of fun and are scary, their scenes are great to watch and there could have been even more than there were. This is especially true with the Indominus Rex, who is chillingly bloodthirsty, when she is stalking her prey it's enough to be glued to one's seat and then jump out of it. Michael Giacchino's music score is positively stirring, and even includes themes from Williams' score for Jurassic Park, which was just a lovely homage and fits within the rest of the scoring beautifully.The film's homages are most enjoyable and give the film a nostalgic quality, some of it is savvy and funny and while not as much as the original there's still a good of thrills and scares to be had. The latter half is often very exciting, the film is efficiently directed, doing nicely in maintaining the tension, and the acting is good (though one does wish that the characters were written better). Chris Pratt has a likable and warm presence, as well as a nice wit, and Bryce Dallas Howard is similarly good even with the most problematically written character. Vincent D'Onofrio makes a real effort making his somewhat one-note and underused character more interesting than he deserves to be and does bring some intensity.However, Jurassic World does contain some large problems. Not all the acting works, Judy Greer for my tastes was annoying in places and the children's acting was often too forced and their back story goes nowhere. The script and story are uneven, with the script it has its moments but it can be a bit muddled, as a result of trying to do too much at times, some of the dialogue is very weak and can induce cringes and some of the reversals are really out of place. It also could have done a much better developing the characters, because they felt very underdeveloped and clichéd, especially Claire, and any character arcs come off clumsily or aren't explored enough, particularly for the children. Owen and Claire's romance can slow the film down and does contain some forced dialogue. The story is at least never really dull, and excites more than it limps, but at the same time it does lack the wonder, consistent suspense, smartness and originality that Jurassic Park had. It does feel like a too predictable rehash at times, does feel muddled tonally, the exposition in the first half hour does go on for far too long and doesn't really say anything interesting and the ending is too silly and anti-climactic for my tastes.All in all, uneven and not on the same level as the original Jurassic Park, but a very entertaining well made film and by far the best of the sequels. 6.5/10 Bethany Cox",
         "Jurassic World",
         "6.9",
         "Action, Adventure, Sci-Fi",
         "2015"
        ],
        [
         "2",
         "tt0369610",
         "Its a Jurassic World after all.",
         "7.0",
         "The 4th film in the Jurassic Park series and the second sequel that Steven Spielberg did not direct starts off well enough with enough call backs to the first film of the series but quickly turns into a monster movie with a run away super killer dinosaur that was spliced by the DNA of other prehistoric creatures for the sake of selling extra tickets. If my description of the plot Is pretty simplistic,it's because the story is that simple. So forget the dangers of science morality tales that both \"Jurassic Park\" and \"The Lost World\" gave to it's stories and just accept that the series has become a standard creature feature that just swaps out it's main monster for every new installment. The last film in the series \"Jurassic Park 3\" pretty much threw away the whole plot lines of the first two films just to give us a chase film with a dinosaur that was never even seen in \"The Lost World\" and that film was set on the same island. While \"Jurassic Park 3\" just went on a painful 90 minutes long montage of talking raptors, horrible scenes of family bonding and an visible annoyed Sam Neill looking like he's about to go postal on the people working on the film set, Jurassic World manages to be a hell of a lot more enjoyable experience for the viewer in terms of just trying to inject a sense of plot and continuity to this other wise creature feature.As a standard creature feature, the movie works well and gives you your money's worth of dinosaurs doing collateral damage to property and personnel with the occasional park visitor being killed for good measure. Throw in your slack jaw good guy ( Chris Pratt) who feels that the creatures are misunderstood and works with good guy dinosaurs(I Kidd you not) to help stop the super killer dinosaur. Throw in an human adversary for our hero to fight with ( Vincent D\"Onofrio) who would blow the whole island up to get this monster and add an human element like two lost children who are related to a employee at this crazy theme park who by the way has the hots for our hero and you have the entire story right there.It's hard enough to keep a franchise going, especially when you're dealing with dinosaurs walking the earth. You will eventually hit a wall in terms of storytelling if your primary goal is to keep turning these films out with out any care what so ever. We saw that with \"Jurassic Park 3\" where all the plot points from the previous two films were abandon for a B Movie creature feature. \"Jurassic World\" tries hard to correct that by having the movie be about something a little more and try to connect itself to the first film of the series. And Its much better film for it but it still ends up a creature feature all the same.",
         "Jurassic World",
         "6.9",
         "Action, Adventure, Sci-Fi",
         "2015"
        ],
        [
         "3",
         "tt0369610",
         "Worthy Sequel To One Of The Greatest Films Ever Made",
         null,
         "Let's start this by stating how much of a die hard fan I am of 'Jurassic Park', I love that film, always have, always will. 'The Lost World' is a worthy followup, but at the same time lost the panache the first one had, as for the third entry, I'll overlook it because it just got too silly for my liking... anyway, on to 'Jurassic World'. First of all, the positives outweigh the negatives by far, so to start I shall begin with the flaws. 'Jurassic World' near enough scraps the use of animatronics that made the original films so realistic in comparison and instead overuses CGI, but that aside the visual effects are stunning. And the story, well, it's a little too far-fetched to say the least, but not to the point where it's completely ridiculous, just enough for you to have a laugh but still enjoy it nonetheless. Trevorrow's direction, Pratt's acting and Giacchino's score are all superb, and these combined make the film a worthy watch. The film perfectly blends drama, emotion and action, and when I say action, I mean full-on awe- inspiring action. The closing battle is just rife with intensity, to the extent that I was literally sitting on the edge of my seat in the cinema, it was perfectly choreographed (if maybe a tad predictable) but my heart was racing, I hadn't felt that excited with a film's conclusion for a long time. All-in-all, it's a well- executed and beautifully-crafted sequel, but will never outdo the original, the best 'Jurassic Park', but a second spot grab? I think so.",
         "Jurassic World",
         "6.9",
         "Action, Adventure, Sci-Fi",
         "2015"
        ],
        [
         "4",
         "tt0369610",
         "Manages to somewhat return the Jurassic Park series to it's former glory, but its still a few notches below Spielberg's first two entries in the series.",
         "6.0",
         "Modernized and polished entry to the Jurassic Park series picks up 22 years after the original Steven Spielberg SyFy thriller with a fully functional prehistoric amusement park that is trying to pick up their attendance numbers by splicing the DNA of their animals in order to create a new attraction to bring in more customers. With this, they manage to create a dinosaur that is much bigger that the signature T-Rex but also much more aggressive, much smarter and much more territorial as well. So of course it does not take much time for this thing to break out of it's habitat to cause death and destruction in it's wake. It's then up to park consultant Owen Grady (Chris Pratt) and company to stop this mega dinosaur from killing everyone on the island.While the set up is predictable as well as it's outcome, the movie still provides a fun two hours of distraction. The problem is however is that outside of Chris Pratt, whose playing an intelligent variation of his swagger character from \" Guardians\" No one in this movie is very interesting or likable with the slight exception of Vincent D'Onofrio, who can read a phone book and make it interesting. The script is cringe worthy in a lot of places and while technology has come very far from the original, good storytelling is far and few between. \"Jurassic World\" still does manage to offer a lot of scary moments of sheer terror and does provide some comic relief, which is a huge step up from the last movie of the series(Jurassic Park 3)but does not have the genuine spectacle and heart that drove Steven Spielberg's first two movies in the series (The original Jurassic Park and The Lost World : Jurassic Park).All and all, it's a decent ride that somewhat redeems the Jurassic Park series but they need shoot higher next time other than just be a decent follow up.",
         "Jurassic World",
         "6.9",
         "Action, Adventure, Sci-Fi",
         "2015"
        ],
        [
         "5",
         "tt0369610",
         "Very good but more a remake of the first two movies than a sequel to the series.",
         "7.0",
         "Like it's dinosaur Frankenstein creation, Jurassic World is itself a  hybrid of sorts. A bright and vibrant opening that reminds the viewer  of the first time they saw the original Jurassic Park, with a voice  over by the late Richard Attenborough in introducing the park visitors  and the audience of the wonders of the first dinosaur amusement park.  Sort of a tribute to what the first movie was about and the realization  of it coming true. Then the mayhem begins and the viewer will remember  the words of Professor Ian Malcolm from the first sequel \"The Lost  World\": \"Oh, yeah. Oooh, ahhh, that's how it always starts. Then later  there's running and um, screaming.\" That's what happens after the slow  introduction of the characters and story points of \"Jurassic World\".  What good about this film that it's a slow burn, like the first  Jurassic movie, then it kicks like a mule with the scares and adrenalin  of \"The Lost World\" when the park's new attraction starts eating the  tourist and it's fellow attractions. While having both Steven  Spielberg's original two films as inspiration is a good way to create a  Jurassic sequel, it's not original. Don't get me wrong, its very good  for what it was and Chris Pratt earns his stripes as a leading man but  takes too much from both \"Jurassic Park\" and \"The Lost World\" and just  regurgitating scenes here and there to be taken seriously as a sequel.  Plus it goes into overdrive with the scary,intelligent predator hybrid  dinosaur, which comes across more like \"Predator\" than a Jurassic Park  movie. This dinosaur hybrid kills for sport, not hunger or necessary  and that pushes the boundaries of what the Jurassic Park series was  about. Yes, they are wild animals but this film plays them up as good  guys and bad guys then the out of its time species that did not belong  into human society. With all of that out of my system, i will admit  that i did have a good time watching \"Jurassic World\" and jumped quite  a few times during a few scenes. A few inconsistencies a side, i  enjoying it as what it was. While there are obvious links to \"Jurassic  Park\" not to mention the fact that they are back to the original place  of the first film, i just did not feel like it was sequel to the  Jurassic Park series. More a reboot/remake of the first two movies but  it could have been much worse (Jurassic Park 3 anyone?).  3 Stars. Don't expect anything original but do expect to have a good  time none the less.",
         "Jurassic World",
         "6.9",
         "Action, Adventure, Sci-Fi",
         "2015"
        ],
        [
         "6",
         "tt0369610",
         "The good news: It's vast improvement over Jurassic Park 3. The bad news: it's the most predictable entry in the series",
         "6.0",
         "Fine but predictable return to form for the Jurassic Park series finds John Hammond's dream for a \"Jurassic Park\" becoming a reality. However, in a way to have more people come back to the island, scientist's create a hybrid dinosaur as a new attraction. But, like every Jurassic Park film in the series, things don't go off as planed and all hell breaks loose in it's aftermath. Unlike the last 3 movies however, this film is made up of mostly new characters to hold off the Dinosaurs with the exception of a small side character from the Original Jurassic Park film played by BD Wong, who to be quite honest is only there to somehow fulfill continuity from The first film to the new one. It would have made more sense to bring in some of the original leads to bridge the whole series together but that seems to be asking too much. The new characters starting with lead Chris Pratt are fine but underwritten and cliché. Pratt's character and performance is really the only bright spot of the new cast of characters but he lacks the cool sarcastic wit and intelligence of Jeff Goldblum's Ian Malcolm and The everyman appeal of Sam Neill's Dr Alan Grant. Pratt however brings his own warm, comic sensibility that does make him endearing in his own right but unlike Goldblum and Neill who brought dramatic tension to the films, Pratt gets overshadowed by the dinosaurs once the bloody carnage begins. Bryce Dallas Howard is decent but unremarkable in the uptight corporate woman with no life role and Vincent D'Onofrio is OK as the resident head of security of the park. Of course, there are two kids who plays the nephews of Howard's character who are put in the middle of the action one it begins, leading to a predictable climax that while is full of thrills, could have been seen a mile a away.The Dinosaur effects in this film are probably the best in the series so far and while there are moments of Obvious CGI, it really does not distract from how far effects have come over the years from the first film to this one. In terms of dino carnage, this film comes in a little behind The Lost World in that department but not by much. The body count is higher here than in any of the other films in the series but lacks the tension and showmanship that Jurassic Park and The Lost World had in spades. It's however head shoulders above what Jurassic Park 3 had in those departments. Not to mention the fact that while the script for Jurassic World is fairly predictable, it does not overstay it's welcome. Unlike the underwritten Jurassic Park 3 with its very unlikeable characters.Jurassic World is a fine addition to the Jurassic Park series. While its pretty predicable and not as good or as tension filled as the first two films of the series, it's a vast improvement over the disappointing 3rd film. However, if there should be a fifth film, they need to go beyond the new monster of the week and come up with a better script to justify this series continuing for another film.",
         "Jurassic World",
         "6.9",
         "Action, Adventure, Sci-Fi",
         "2015"
        ],
        [
         "7",
         "tt0369610",
         "If you're looking to sit on the edge of your seat for two hours, welcome!",
         "10.0",
         "First of all I think people need to understand that film is a lot like music, you can't listen to a new Justin Bieber song and complain because it's not a Mozart masterpiece. And you definitely can't watch Jurassic World expecting a mind-boggling, emotional Inception type film. I would put Jurassic World in the same category as most Michael Bay films, the story line won't make you think, the characters won't go through any psychological changes but you will be thoroughly entertained by the special effects. I think it's fairly obvious throughout the original trilogy and this film that we are the visitors to the attractions, Steven Spielberg gave the parallel Earth a new unimaginable attraction, one which surprised the audience so much, it's rated as one of the best films ever. Period. Fast forward twenty two years past the films of Interstellar, Lord of the Rings and Harry Potter, we as a human race have seen a lot of original, unique things, a plain old dinosaur film will not bring us the same thrills as it did in 1993. Therefore we are once again, the visitors to the attraction. We will never feel the same buzz as first seeing that T-Rex crashing the gates over, or the same chill down the neck when first hearing that Raptor shriek. However, we can still be entertained. Which is what happens throughout the film. The characters are fairly bland, there are only a couple likable ones, but they all seem to grow on you near the end, the bloodbath that is left by the new Dino is quite emotional and gives you a side to pick fairly easily, the surprises throughout the film keep it exciting and the special effects, well we are in 2015 and they did have a lot of money to spend so lets just say they are incredible as expected. If you're looking to be on the edge of your seat for two hours and trust the film to not bore you, then you have nothing to worry about, the line graph representing excitement just climbs up and up, if you're expecting another Shawshank Redemption, well please don't slate the film when it doesn't satisfy your needs. I think that films should have two ratings, one for overall, and another for it's main sub-category, for example as an overall film I'd give it a 7.5-8, it's sub-category of excitement I'd give a solid 10, a comparison to the first Transformers which I'd give an 8 for excitement and a 5 overall. Therefore I really do recommend this film for anyone who like me, enjoys special effects, good excitement and two hours to just sit on the edge of my seat and thoroughly enjoy my time. I can only say I can't wait for the second one and I'm sure you will too after you watch it.",
         "Jurassic World",
         "6.9",
         "Action, Adventure, Sci-Fi",
         "2015"
        ],
        [
         "8",
         "tt0369610",
         "Smart Dinosaur, Dumb Writers",
         "6.0",
         "Overall, this wasn't a dull film. It was full of action and very absorbing. It just wasn't a very intelligent film. The writers took shortcuts to move the plot in the direction they wanted, and most of the characters fluctuate from utter moron to complete genius throughout the film.The acting was relatively dull, with the exception of Chris Pratt who played a character he's played over and over again. Most everyone else was uttering cringe-worthy dialogue throughout the film.The story is cliché, uninteresting, and full of moronic plot holes. The idea to turn the raptors into tamable teddy-bear creatures was a terrible decision that turned potentially horrific moments into a waste of time. Couple that with a worse deus ex machina moment than the first film, and you have a veritable mess on your hands.The most damning part of this film was the fact that the writers spent 14 years developing a story with a dinosaur written to be smarter than the writers themselves. Indominus possesses all the wit and clever thinking that could have been used to write a terrific screenplay. Next time, write a smarter story with a dumber dinosaur.",
         "Jurassic World",
         "6.9",
         "Action, Adventure, Sci-Fi",
         "2015"
        ],
        [
         "9",
         "tt0369610",
         "The Nostalgia is real",
         "10.0",
         "Jurassic world is the #1 movie in America. This movie deserves the right to be called back especially with all the money it earned especially in the first week it was out. It's been 14 years since the last time I saw Jurassic Park. I never would have thought that they would be making a Fourth one and when I heard they were making a new one I was ecstatic. It brought back all the memories of the first 3 films. When the day came for Jurassic World to open it had to go see it on opening day and I did. The movie gave us the same feeling Jurassic Park 1 did \"Welcome to Jurassic World\". The new park looked amazing showing that John Hammond'so dream finally came true. The music was more amazing than ever, the original Jurassic Park theme was re-prised to show how much thing had changed in 14 years. The main attraction of this movie was the Indominus Rex and hybrid of T-Rex, Raptor, cuddle fish, and Tree frog and terrifying intelligence. At the end of the movie we get to see the original T-Rex from the first movie roar for the last time after the park was closed for good. This movie brought back so many memories for so many people. I can't wait for the next one.",
         "Jurassic World",
         "6.9",
         "Action, Adventure, Sci-Fi",
         "2015"
        ],
        [
         "10",
         "tt0369610",
         "Better Than Jurassic Park 3, But Totally Predictable",
         "6.0",
         "**spoilers ahead.** I am a great fan of Jurassic Park. I loved it when I watched it in 90s but it was a new concept back then. It had a great story and some of the best visuals at that time. It was not completely predictable and it was fun.Fast forward 22 years and we have \"Jurassic world\". The story picks up after 22 years of Jurassic Park. I am not going into the details of the plot, but it is almost similar to the original Jurassic Park. We have a park where people can come and see the genetically modified dinosaurs. One of them escapes and goes berserk. Now Chris Pratt has to stop him from causing more destruction. So there is nothing new in terms of story.It is similar to some of the other movies that we have already seen.The CGI looks really good but these days even a low budget film has some really nice graphics work. But if you are a fan of 3D, you will have some fun as it has got some really scary scenes and the effects are amazing.It is predictable yet enjoyable. Chris Prett does a great job. In fact, he is the only person in the movie who is likable. I did not care about other characters.Now let's talk about the negatives. There are so many things that are wrong with this film. But I have made a list of the things that don't make sense. I am not going to talk about the technical things because everything is good except for the BGM. 1- Who enters a dinosaur's territory without knowing where the Dinosaur is? they could have tracked him before entering the cage, just to be sure. and Did I mention that we are talking about a genetically modified dinosaur with the IQ of Einstein?2- The character played by Judy Greer and Bryce are so annoying. Judy starts crying for a stupid reason ( because her sister didn't accompany the children, she works in Jurassic World, she has a lot of work to do.)3 - Bryce does not know what logic means. There are moments where she shows her STUPIDITY. (Like - \"screaming\" even though she knows that the dinosaur could hear her voice.)4 - The kids are the most stupid ones I have ever seen. I mean you are in Jurassic World. If there is an emergency then it must be something important. Get the hell out of there. But no, we have to see everything.5- Who the hell designed this stupid spherical vehicle that the kids used? Dinosaurs could have easily destroyed it, One swing of their tail and it would China. who wants to travel in such a vehicle?6- Chris Pratt and Bryce go out to find the children and their defense is - A GUN. What? Are you going to kill that Dinosaur with a GUN?7- Chris and Bryce see some dead or soon-to-be- dead dinosaurs so they make sure that they waste a lot of time with them albeit they have to save the children and time is running fast.8- Chris goes out to kill the dinosaur with a team, but only one of them has a Bazooka. Then they wait for the Dinosaur to have some giggles with the small dinosaurs. They could have brought 5-6 Bazookas with them and launch them at the same time. We saw what 1 Bazooka did to him. 5-6 could have easily killed him or at least crippled him.9- What the hell is the deal with those 4 dinosaurs who keep changing sides?10- I honestly could not understand what Chris Pratt's role was? He did not do anything in the whole movie except for running. He was useful at only one place - The climax. He somehow hypnotizes the small dinosaurs, but even that doesn't do anything.11- The Dues ex machina Ending. (A big Dinosaur saves the day). Maybe I am nitpicking but these are the examples of sloppy writing. You must avoid such things. Some scenes reminded me of Avatar and the climax reminded me of Godzilla.Overall it is a nice movie to pass your time but it is not a must watch. It does not get anywhere near to the level of Spielberg's original Jurassic Park. but yeah, It is a great improvement over Jurassic Park 3 which was a complete mess.",
         "Jurassic World",
         "6.9",
         "Action, Adventure, Sci-Fi",
         "2015"
        ],
        [
         "11",
         "tt0369610",
         "A nod to the original and even more",
         "9.0",
         "As a young boy, dinosaurs were the greatest thing on earth (well, the greatest thing that once WAS on earth) for me. I knew most of their names (like Gray in JW) and had my plastic dinosaurs fighting themselves, evil, and sometimes also good. You can imagine my excitement when I first saw Jurassic Park and I was truly blown away by the idea. I still somehow wish that I could actually experience the events in the movie, although I understand the critic that the author of the novel, Michael Crichton, wanted to express. Much of that critic is lost in the third sequel to the original movie, 22 years after its original release, at least it's hidden very deep in the plot. The scientists have created a new super- species, filled the missing pieces of DNA up with genes of amphibians that all have certain survival-powers, and it all goes terribly wrong, much because the dinosaurs are being underestimated as they always were. So is it a reboot of the first movie? At least a bit. They are referring to the first movie all the time, examples: A control guy wearing an Jurassic Park shirt proudly says he got an original shirt (shown in part 1 several times) for $150 from eBay, they run through degenerated original buildings and one time the kids even drive an original van that they repaired competently. New park-owner Masrani says that John Hammond told him on his death bed to \"spare no expense\", which was one of the funniest scenes in the movie, yet Masrani doesn't want to commercialize the park too much. That's where the movie starts being perfectly self-ironic: one control guy (the one with the classic shirt) jokingly suggests, in order to please the investors, to name newly bred species after companies, \"so how about Pepsi-Saurus\"? The movie indeed is full of product placements, I counted at least 9 brands and logos that are shown or mentioned during the film. So what is the purpose of the movie? Mainly, I guess, it's meant as a nostalgic, yet up-to-date experience/excuse for all those fans who were bitterly disappointed by the Parts II&III. It's exciting, contains a little love story, it's got wit, social criticism and excellently animated dinosaurs. It shows that 22 years after Jurassic Park, movie heroes are still being chauvinist and women are still stronger and braver as they are pictured in most (other) movies. And, finally, it fulfills every fans biggest desire: man and dinosaur, at last fighting side by side. That's probably why I'd give it an even better rating than the original Jurassic Park movie, although of course classic scenes like the shaking water glass will probably never be outperformed. Résumé: Director Colin Trevorrow manages to create an enthralling and visually stunning homage to the original which at some points brilliantly steps out of the shadow of its role model and finally puts the conciliatory end to the dinosaur universe that we, the fans, truly deserved.",
         "Jurassic World",
         "6.9",
         "Action, Adventure, Sci-Fi",
         "2015"
        ],
        [
         "12",
         "tt0369610",
         "Jurassic World complete with equally ancient clichés!",
         "7.0",
         "So, I liked this movie, but boy is it full of clichés and stereotypes. My partner and I found ourselves calling out every character, what they would end up doing within moments of being introduced to them.Seriously, there is an entire butcher's-worth of ham-fistedness in the approach to character intro's and scene building here. You'll know what will happen long in advance of it actually happening on screen.What this does is make the movie utterly predictable and, in essence, boring. At your first viewing, you will feel like you have seen it before.It also says something about a film featuring dinosaurs that it is at its best when they aren't on screen. I don't know how this came about, but, for the most part, the dino's are a little dull and uninteresting. They plod, they run, they roar, and all in glorious CGI. Yet they fail to evoke the same emotions that they did in JP1 or even 2.That's not to say the human actors are a lot better, but at least they have some thin characterisation applied to them, even if it is in the form of horrible stereotyping.I mean, military guy who is bent on weaponizing the dinos, distant aunt who has no skill with children (bet you can't guess where her story-arc evolves to?) What? Oh yeah, that's right... she does discover her nurturing instincts. Wow! You're better at this than the writers!Don't get me wrong. It is a solid popcorn flick. But the lazy writing does it tremendous harm. I swear they have some sort of software in Hollywood that churns this stuff out. There are no surprises here. None.Acting and Effects are capable. No one really stinks and there aren't that many obvious CGI moments (in so much as we know it is all CGI anyway, nothing shows itself about the perceptual parapet, as it were).It is a decent watch, but expecting the expected is no longer fun when taken to this extreme.SUMMARY: Formulaic and totally predictable. Nothing to write home about. See it, and then move on.",
         "Jurassic World",
         "6.9",
         "Action, Adventure, Sci-Fi",
         "2015"
        ],
        [
         "13",
         "tt0369610",
         "The franchise has had a lobotomy",
         "4.0",
         "Dinosaurs. Amusement Park. Tourists. Disaster.Jurassic World has them all.Naturally, I had to see it.The beginning holds much promise, and it gets your hopes up for the disaster to come. When it does, there are some great action sequences, especially ones with the glass ball containing the soft, chewy child centre.Unfortunately the final act unravels into outright farce.Chris Pratt is great as the affable yet bad-ass Raptor Whisperer. He's got an easy going charisma that could easily carry an iconic character like Indiana Jones.Bryce Dallas Howard plays Claire Dearing, the uptight park manager, who initially clashes with the laid back Owen. Of course you know where the tension goes.The film tries to flesh out Claire's character by throwing in her two nephews (someone and another kid), who do double duty as McGuffins.Vincent D'Onofrio shows up as Hoskins, a villainous representative of the military-industrial complex angling to weaponize velociraptors. He's all sneers and scenery chewing, so obviously evil he's got a goatee. D'Onofrio does it well but the evil plan he's been saddled with by the writers makes no sense at all.The director, Colin Trevorrow, said in interviews that he wanted the dinosaurs to act like real animals, not cartoon monsters. Quelle surprise! I had no idea, as he has well-fed winged dinos (or near enough to dinos) go on a crazed orgy of violence against hapless tourists. Why? Because cool action sequence!One poor soul is even treated to the most outlandishly elongated death sequence I've ever seen, all to no end. It didn't justify anything, paid nothing back, offered no comeuppance. It was just gleeful indulgence in sadistic torture of a minor character. It was an Itchy & Scratchy moment.Which brings us to the final act: turn off your brain before it begins.The first movie proved you could have a smart script and dinosaurs in the same movie. After that, the IQ of the series dropped with each outing. The first one had chaos theory and amber and DNA extraction and cleverness up the whazoo. It was AWESOME.What does this one have? Hackneyed evil plans, a clunky plot, and characters so smart they run from T-Rex's in high heels.The franchise has had a lobotomy.",
         "Jurassic World",
         "6.9",
         "Action, Adventure, Sci-Fi",
         "2015"
        ],
        [
         "14",
         "tt0369610",
         "Could have been worse...definitely better than 3",
         "6.0",
         "First, I am the biggest Michael Crichton fan. I have read nearly everything he has ever written. So, the bad comes first - 1. Some of the characters (dinos included) did not fit the mold for his writing. While I found them likable, I also found them detestable as a \"Crichton snob.\"2. I felt like there was too much in the way of homages. A few subtle nods would have been sufficient, imo. Other minor things like overall story development, and a few other directorial issues aren't worth dwelling on in light of a 2 hour and 10 minutes run time.The good - 1. Chris Pratt was excellent. I'm quickly becoming a fan, and hope he can develop his skills a bit more for future roles. As my wife pointed out, he'd make a great fit for an indiana Jones reboot if the time comes.2. The dinos were awesome. Even the new ones, as far-fetched as they seem. In this regard, the writing was right in line with Crichton. He loved to stretch the science to the very edge of being illogical, if not impossible.3. Did I mention ALL of the homages? Many casual viewers will miss most of them. My 11 year old got a bunch but not all of them. From that standpoint, I like being able to see some of the more subtle connections, and rides down memory lane are generally enjoyable.Conclusion - Overall, I felt like it was worth the matinée admission of 7.50. I wouldn't have wanted to pay 10, but others may disagree. Solid action film....3.5 stars.",
         "Jurassic World",
         "6.9",
         "Action, Adventure, Sci-Fi",
         "2015"
        ],
        [
         "15",
         "tt0369610",
         "Great first half, but script fell apart",
         "6.0",
         "What a shame. This movie could have been so much better! I was completely enthralled during the first 45 min or so, and it was as if I was visiting the Park myself. The cinematography was beautiful, the attractions were innovative and the park was filled with so many extras, that it felt like a real place. There was a lot of interesting man vs. nature debate in the script as well as tidbits on the danger of technological progress. I applauded the writers at first. There were even some pretty decent character arcs but unfortunately, they never fully developed.When the action started to pick up, things went sour really fast. If this film had maintained its serious tone, I may have scored it in the 8's or even 9's. But sadly, the director chose to include bits of cheesy comedic lines in moments of urgency, completely ruining the thrill. I cared nothing for the characters, because, it seemed as if the characters took the threats they came across a bit too lightly for my tastes, so much so, that it completely nullified Bryce Dallas Howard's excellent performance. But hey, at least the action was better than expected and so was the CGI. I was skeptical at the fact that there were so few robotics used in this film, but it didn't matter. The CGI was that realistic. I still can't say it saved this film. I yawned a lot in the end, despite the pretty cool plot twist. This film should have been a horror film like the first 2 installments, but it chose to be a movie aimed at teens. What else is new these days with blockbuster films right? 6/10",
         "Jurassic World",
         "6.9",
         "Action, Adventure, Sci-Fi",
         "2015"
        ],
        [
         "16",
         "tt0369610",
         "Underwhelming, Predictable; Yet better than Jurassic Park 3",
         "6.0",
         "Make no mistake this movie isn't bad. The movie does have great CGI and really amazing action sequences. Great atmosphere at times especially before the carnage unleashed by the I-Rex.But it lacked a good plot, almost little to no character development; has a very predictable story-line, and the dialogues too fell flat at times.***Spoiler*** Personally, what had disappointed me most was: 1. the changing of allegiances at the flip of a switch by the raptors. They change sides 4 times in a 24 hr time-span! (anti-human, pro human hunting the I-Rex, with the I-Rex n anti human, with Pratt n anti I-Rex). Really?! Even politicians don't flip-flop so much so quickly! 2. The ending, it could have been much more intelligent rather than having a tag-team or a handicap match between dinosaurs who just 'bid goodbye' after beating their foe. Seriously!! The T-Rex and \"Blue\" the raptor nod in acknowledgement and part ways after beating the I-Rex (special thanks to the Mosasaur). Surely they could have come up with something better! Even the exchange between Pratt n \"Blue\" at the end, what was that about?!. To me the ending felt like a Spaghetti Western- esque parting of ways by the remaining anti-heroes after a Mexican Standoff, but in this case you had two dinos and a human. The whole thing is so Absurd !!!! *********More of a 'rinse-repeat' of the first one, just with a different setting, a different antagonist (the I-Rex) and some really good action sequences. It will keep you entertained but at the same time will make you feel like something is missing.Better than Jurassic Park 3. Nowhere near the quality of the first one in the franchise: Jurassic Park.",
         "Jurassic World",
         "6.9",
         "Action, Adventure, Sci-Fi",
         "2015"
        ],
        [
         "17",
         "tt0369610",
         "Brilliant",
         "8.0",
         "I am a huge fan of the Jurassic Park franchise, it's my favorite franchise, my life revolves around it and dinosaurs. I was very nervous for Jurassic World, because it had been so so long since we've seen them back on Isla Nublar (22 years to be exact). This made me go into the film as a mainstream film fan, so I could really tell if this was a good film or not, without being bias. I was amazed by how much this film makes you feel like a kid again, it has the exact amount of nostalgia to please the fans of the franchise and enough new material to appeal to a younger audience who maybe haven't seen the first three films.First of all, the cast which this film possess is used to great effect, with the most notable being Chris Pratt, his character Owen Grady is the perfect blend of Alan Grant and Ian Malcolm, making him likable and very quirky in how he behaves around his Velociraptors and people in general. Bryce Dallas Howard's character breaks the conventions of a female character in a film of this genre, she takes control of situations and you feel that she isn't a girl to run away from danger...apart from running away from the Indominous Rex, which I don't blame anyone for doing so. The supporting characters in the film also help it to come alive and make you think this is a real park with real lives at risk, especially Vincent D'Onfario in his role, he plays it magnificently and you can feel his tension yourself and finally Nick Robinson and Ty Simpkins as the kids in peril aren't as annoying as Kelly in the lost world, so that's an improvement to take note for.When the first trailer for Jurassic World was released, way back at the end of November 2014, people were starting to get very worried about the effects in this film and how they will improve from the first film, the same with the use of animatronics in this film. Well my friends and fellow fans, the CGI in this film are brilliant to look at, even though some scenes you can tell it is from a computer scene, the rest you couldn't tell the difference, they used the animatronics in scenes where they were necessary which has a lot of sentimental value for the film which was a nice touch. Most people thought in this film the Tyrannosaurus would play a minor role like it did in Jurassic Park 3, but the way they utilize the old girl is brilliant, she is amazing to look at and she even has the scars form the fight with the raptors from the first film, you cannot make the T-Rex have a small role in this film, especially when she's the poster girl for this magnificent franchise. It will be hard to make Jurassic World 2 better than this one, but here is to hoping!",
         "Jurassic World",
         "6.9",
         "Action, Adventure, Sci-Fi",
         "2015"
        ],
        [
         "18",
         "tt0369610",
         "Clumsy money grabber is saved only by the great special effects",
         "6.0",
         "This is a film for families, like all Jurassic movies so far, so they have to use a pseudo-family unit as the main character. They also have to tell you how to feel at every moment with blunt soundtrack bits that leave nothing to the imagination. The evil corporation, the arrogant rich man, the uncaring secretary and the opportunist need all be punished for their sins. Not so the sexy redhead who got everybody killed in the first place or the annoying children who do whatever they feel like it while a killer dino is on the loose . God, not the children!This sums up the plot of the film. There is absolutely no recipe for a quick buck that was not used in the movie and the rest, which is just as formulaic, is just special effects and a weird hybrid (see what I did there?) between Jurassic Park and Godzilla. Say what you will about Spielberg, the man knew subtlety.Points for not killing the black person first. They went with the Asian.",
         "Jurassic World",
         "6.9",
         "Action, Adventure, Sci-Fi",
         "2015"
        ],
        [
         "19",
         "tt0369610",
         "Great  3D movie",
         "10.0",
         "This film combines the stories taken from king Kong and The lost world,25 version.Bryce Dallas Howard Plays a Bitchy corporate executive ,who can't get with her nephews on Christmas holidays ,played by TY Simpkins and Nick Robinson, that her sister has sent them for visit,played by Judy Greer.Bryce works for a huge corporate amusement park that focuses on dinosaurs.Bryce can't make time for her nephews,so they wonder on their own.She a a troubled working and personal relationships with a dinosaur trainer and activist play by new movie star Chris Prat.Though owner and designer of the a park Irrfan Kahn ,who is more concerned about people having fun than how much profit has increased.Chris has a problem working relationship with Vincent.Vincent believes that the dinosaurs should focus on killing each other ,but, Chris believes they should be trained for peace.Well, there is one dinosaur that was create artificially ,for a new part of the park ,to be open soon.I call him T.Rex Kong. A problem arises he not following instructions and eats another dinosaur .All hell breaks loose when he jumps the wall and terrorizes the customers the customer of the park making a nice meal out of some of the worker and security guards .The dinosaurs were so realistic and were digitally created . Earlier Jurissic Park had used some puppets .The movie is made in style of an amusement park .It seems that the character development is shorter for the sake of the action.In some out takes that was shown ,flat, indicated that may be some of the shots should have been kept of the character development.It was not even.Did you see the little old fashion camera that the smaller nephew was carrying?could indicate Hollywood dislike towards home digital cameras?Chis originally did a you tube joke about him getting a job in Spielberg's next Jurassic movie .I think it was you tube.His dreams came true. Another problem was that the characters and the whole atmosphere of the movies and sets were cold and stoic.Even the kissing scene was cold and the family reunion scene,which Claire's sisters husband was played by Andy Buckley, was also not warm..E.T ,Poltergeists and Star Wars was far more Warmer.What's the problem?I am afraid it's a real world currently problems in general.Hollywood has always pretentiously serve the establishment ,for profit,then claims they serve the masses.This movie reflects our phony liberal side of big business and the wealthy running our government and exploiting the animal rights and environmentalist ,who are desperate for a quick answer to protect animals and the environment as well a s fanatics and those who have a contempt against the human race ,due to constant warmongering ,for profit and political power.This reflects pitting animals and the environment against humans ,very subtle, in this film,but,this is an outer problem.In spite of this it is an excellence film,Gorgeous sets and realistic dinosaurs ,Bryce in her 1970's hair do,which has become popular again and handsome leading man Chris Pratt.I was certainly satisfied with this movie.Both 3D and flat were good. The sound was arousing and excellent .No out of synchronizing problems here,since both images are in a folder stabled .Great for Dino fans and 3D fans. 10/21/15",
         "Jurassic World",
         "6.9",
         "Action, Adventure, Sci-Fi",
         "2015"
        ],
        [
         "20",
         "tt0369610",
         "Should have stayed extinct !",
         "6.0",
         "I really really wanted to like it being a huge fan of the original story and film Jurassic Park but it was missing that Spielberg magic. Some really cool effects but overall disappointing attempt to restart the franchise. Never understand why they can't try something original but have to resort to borrowing from the previous films. Even Spielberg had trouble with his sequels, with the third film in the franchise being particularly bad. Would have liked to have seen some improvements in the actual dinosaurs to reflect current thinking but they decided to stick with the same versions from 17 year ago. I think that this one Jurassic World will end being seen as better than the third film but inferior to one and even two. Direction story and acting were below par with way too many inconsistencies gets a pass from me for at least trying...probably better to save your pennies for the next summer blockbuster or you could always go and watch Max be Mad again.",
         "Jurassic World",
         "6.9",
         "Action, Adventure, Sci-Fi",
         "2015"
        ],
        [
         "21",
         "tt0369610",
         "Don't let people mislead you with sentimentalism, it holds it self by its own as an excellent movie",
         "10.0",
         "Is a solid movie and it holds itself as a trilling experience for everyone. Yes, people from the original cast are not there, however there is actually not a logical reason in the time line to make them go back. Taking out this little detail, the acting is amazing and Chris Pratt holds amazingly as a main character again . Animations are better than ever and the story line even if a little prematurely developed is exciting and looks to reward the new audience as well as the hard on fans. Overall is a great movie which promise enjoyment. I loved it and I will recommend it for everyone that is a fan and for the ones that just want to see a movie that will print a smile at the end.",
         "Jurassic World",
         "6.9",
         "Action, Adventure, Sci-Fi",
         "2015"
        ],
        [
         "22",
         "tt0369610",
         "Jurassic World is decent popcorn entertainment but ultimately feels like wasted potential",
         "6.0",
         "Upon leaving the theater, my reaction to Jurassic World was \"eh it was good enough\". A few days later as I think back to the movie, I remember the action packed finale and some of the great visuals but ultimately there was something lacking from the film, a soul, an identity.Newcomer director Colin Trevorrow proves that he has the ability to to shoot involving action scenes, despite having just one small indie film on his resume. Despite this, sometimes his direction can feel flat, especially in dialogue heavy scenes where he struggles to create dynamism in the interactions of his characters. This leaves the audience uninvested in the intricacies of the story (which is highly straightforward) and simply eager to get to the next dino' showdown.The dinosaur scenes in this film are overall fantastic, and elevate the movie to new heights. I felt like there could have been a greater variety of dinosaurs on offer here, but the ones that are in the film (especially the Mosasaur and I-Rex) deliver the goods.Unlike the original Jurassic Park and to a certain extent The Lost World, Jurassic World presents shallow characters and tries to flesh them out in a cliché manner. For example, the divorce subplot involving the two boys that is brought up once early on in the film, and then never resolved or mentioned following that scene. Another example is the main female character Claire (Bryce Dallas Howard) who is portrayed in a negative and highly stereotypical manner for 3/4 of the movie.Some people have criticized Irfan Khan's character but I thought his small character arc was brilliant. However the military subplot was both unneeded and implausible and should have been scrapped. Chris Pratt was decent as always but wasn't given much to work with here. Ultimately, the movie somewhat succeeds in creating a plausible and believable world, however it would have benefited from some more confident direction and a greater focus on story and characterization over visuals. I don't really have a pressing desire to delve back into the world of the film because it ultimately felt too soulless, especially in comparison to Spielberg's original.The movie has been marketed as an action/thriller film and it achieves this at the expense of the more subtle tension present in previous installments in the series. That said, if you are looking for thrilling popcorn entertainment you will have a good time with this one, just don't expect a classic.6/10",
         "Jurassic World",
         "6.9",
         "Action, Adventure, Sci-Fi",
         "2015"
        ],
        [
         "23",
         "tt0369610",
         "Fun, but are all the characters THAT stupid?",
         "6.0",
         "Okay, I will TRY to not judge this film too much on it's obviously superior predecessor Jurassic Park... BUT, there will be some areas where that will be inevitable, but that is to be expected. No, I don't think this is a bad film, it's much better than the vast majority of the underwhelming CGI overkill films that are released nowadays. I would say its fun, but its not a masterpiece.Chris Pratt is fun, I don't know why but he is, and his character helps redeem this movies flaws. The idea of the park is too and so are some of the dinosaurs, but I don't see the attraction in the whole genetic manufacturing of new species, including the big bad one with that name I can't recall. What's wrong with the old dinosaurs? Honestly, they are dinosaurs, they will always be interesting so there is no need to create a pterodactyl with a T-Rex head and a Raptor's arse or whatever, there's just no need.Some of the visuals are fantastic, but they don't take away from the plot's gaping hole which for me played on my mind throughout the whole film. In the original, the workers at JP are sold out by Wayne Knight's character, yes the park had bugs but it fell apart based on betrayal. Whereas in JW, they are literally competent enough to build the theme park but alarmingly too stupid to maintain it. They have built the big bad dinosaur to have camouflage, and then get surprised when they couldn't see it in the cage? They fit with a GPS, and then don't check it BEFORE entering the cage, so they completely overreact and the creature has now outwitted them without even trying. They fitted it with camouflage and GPS and then lose their minds wondering where it is! Also, it may have been worth fitting the cage with a human sized door... pretty standard in any minor zoo, much less a prehistoric theme park. Thats where the disaster starts, but unlike the workers of JP, it is ALL their fault. Honestly, you'd think people in charge of such a big park would have a bit more common sense. There were other minor plot holes but this one got me the most.This doesn't completely destroy the film, it has it's strengths and is by no means un-watchable like other remakes. I liked Pratt's story with the raptors, although it probably could have done without using them like power rangers later in the film though... And I did appreciate the T-Rex (the original leviathan) saving the day in an albeit predictable manor. Yes, this film isn't without strengths.It is possible to love JP and still enjoy JW, I promise.",
         "Jurassic World",
         "6.9",
         "Action, Adventure, Sci-Fi",
         "2015"
        ],
        [
         "24",
         "tt0369610",
         "What a world...what a world",
         "6.0",
         "Seeing Dinosaurs on a large screen do things...any things is fun and entertaining. In this case...Its the actors and the story that distracts and takes away. The movie starts out and at some point builds an interest and even a tension. Why? You cant wait to see the Dinosaurs! Then, what will they do and when starts to present itself. Then, and I wont say when, the ability to critique this movie presents itself. I wonder what people in the business are thinking when they have a successful formula and don't bother anymore to make it special. Why? What so hard about making something so good that you want to see it many times and buy the DVD too. How hard is it to write a decent two hour story? To see this movie once, on the big screen is worth the ticket price but no memories after that. Once is enough. There are still a few people out there in that enjoy a good story. Don't forget us or we may forget you. At the theater, definitely a popcorn move, tasty drink and a snack to be sure",
         "Jurassic World",
         "6.9",
         "Action, Adventure, Sci-Fi",
         "2015"
        ],
        [
         "25",
         "tt3774694",
         "This film is actually brilliant.",
         "7.0",
         "I know I only rated it a seven out of ten but that's because I admit this film's faults. It certainly isn't near perfect but I felt very moved by the characters and their story. Lots of people may not be able to relate to this film however those of us that do can say that everything about this depiction of love has been experienced and is real. As a grown single adult living in today's dating world I can attest that the relationship between Murphy and Electra exists. Their obsession with each other and with sex that led them into a deep and possibly unreal infatuation was honest and thought provoking. Love sometimes doesn't make sense and can't be described or made logical. Their connection was what drove them into darkness, madness and despair. Love is completely all consuming on any level it's represented on. So many times have I given myself up for something that a year later I looked back on and couldn't reconcile my behavior, and so many times have I given myself up to something to only sabotage it before it completely devoured me. I don't know if I have been in love, but I have felt what these characters are going through and I wouldn't know what else to call it. In the vein of Harmony Korine and Lars von Trier I think Gasper Noe is a genius. Yes this movie is uncomfortable, yes the acting isn't great and yes the story is dry, but it's a genuine take on what relationships look like for some people in their mid twenties to early thirties and I loved every second of it.",
         "Love",
         "6.1",
         "Drama, Romance",
         "2015"
        ],
        [
         "26",
         "tt3774694",
         "Gaspar Noe's Arthouse Porno (in 3D)",
         "7.0",
         "Love, a film by the provocative French director Gaspar Noe, offers a unique perspective on sex and relationships. While it can be considered an arthouse porn movie, Love's well-crafted cinematography and authentic portrayal of relationships make it intriguing.Notably, the film sparked discussions due to its unsimulated sex scenes. Noe treats these sequences like meticulously choreographed action pieces, broken up by scenes of dialogue and drama. While one could debate the necessity of these scenes, they undeniably contribute to the film's pursuit of authenticity, as the actors genuinely engage in sexual acts. This rawness adds a level of intimacy seldom witnessed on screen. This added realism is necessary, as the acting, while serviceable, is never great.However, the inner monologue of our protagonist, Murphy, often comes across as painfully pretentious and grating, detracting from the overall experience. Similarly, the confrontations between Murphy and Electra are cringe-inducing, intentionally highlighting the discomfort and awkwardness that often accompanies real-life relationship conflicts when viewed from the outside.At 134 minutes, the film is too long, especially when the main character is as unlikeable and toxic as Murphy. It's surprising that a movie titled Love presents such a pessimistic view of love and monogamy, yet this unexpected perspective enhances the film's intrigue and allure.",
         "Love",
         "6.1",
         "Drama, Romance",
         "2015"
        ],
        [
         "27",
         "tt3774694",
         "Love, Sex and the Aesthetics of Euphemism",
         "6.0",
         "I always have problems with beginnings – the beginning of an article, the beginning of a film, the beginning of a relationship, simply because beginnings are crucial in setting the tone and pattern that will lead you all the way through till the end. Naturally being affected by all the negative social media propaganda that Gaspar Noé's Love (2015) has stirred, I was reluctant to even begin watching it because I am inclined to believe that films with explicit sexual content (except for Lars von Trier's Nymphomaniac, and I will tackle why in another review) are made either to sell like cheap porn for lucrative reasons or to assume a false air of originality and experimentation. I have finally decided to watch Love after it was recommended by a trusted friend of mine, and at the end of the day, one has to constantly push their limits in terms of artistic tolerance.Back to the beginnings, Love begins with a three-minute scene taken in one shot by a steady camera of two people having what seems to be – and what actually turns out to be – unsimulated sex. After overcoming my feelings of discomfort, I started to understand what the Argentinian director is trying to do here. Is it a pornographic scene? It definitely is. But is it meant to be sexually arousing? I would have to argue for a no. Sexual excitement requires a certain amount of build-up, but jumping directly and unexpectedly into the act generates nothing but feelings of shock and unease that would need some time to fade away.The story then unfolds in a backward linear plot. We are introduced to Murphy (the man in the opening sex scene), a frustrated young man who lives in a small apartment in Paris with his detached girlfriend and their son. The memory-evoked reversed narrative is instigated by a voice message he receives from the mother of his ex-girlfriend Electra (the woman from the opening sex scene), asking for his help to find her daughter. The man and the woman from the first sex scene are no longer strangers; we get to see how they broke up, how they managed their relationship, and finally how they met, with a heap of very long unsimulated sex scenes in between.As a voyeur (a person who discreetly watches other people in intimate, usually sexual, positions) I was extremely confused since the enjoyment element was missing. Is it because the sex scenes were too many, too long, too real, or too unnecessary? In one of the scenes Murphy says, as a cunning gesture to voice Gaspar Noé's desire, his biggest dream is to make a movie like no other that truly portrays sentimental sexuality. He also tells Electra: \"I want to make movies out of blood, sperm and tears. This is like the essence of life. I think movies should contain that, perhaps should be made of that.\" Well, we see a lot of sperm and tears in that film, there is no doubt about it. It is true Love depicts relationships from an exceptionally crude, raw angle I have never seen before. Sex in cinema – and in life in general – is an uncanny subject; it lies at the essence of everything, everybody knows it is there, yet nobody talks about it overtly.. not in realistic terms at least. The film feels emotionally real. Too real. And not just when it comes to sex, but also to dialogue and performance. In one scene, Murphy tries to get Electra back and he keeps knocking on her door, after a few seconds she opens the door, apparently under the influence of drugs, and screams at him in the most deranged manner you could ever imagine. The camera does not move; it feels like a terrified neighbor watching the scene from the stairs. Most of the camera movement and angles follow the same pattern throughout the movie: the neutral uninvolved medium shot. Mid-film I realized it was not the sex scenes that made me uncomfortable but the fact that the film is devoid of any cinematic, stylistic euphemisms. In conventional romantic films, there is an invisible line separating the romantic from the sexual – love from desire. The subtle message is always: love is sublime and desire is vulgar. The reality of the things, and as presented in the film, is that both are inseparable in their sublimity and vulgarity.I cannot tell for sure whether I like it or not. Cinema, as Slavoj iek puts it, is \"the ultimate pervert art\" because it does not directly satisfy our desires but manipulates them. It does not show us our capabilities, but give us the illusion that we are capable. Cinema draws the line between imagination and reality and keeps crisscrossing the boundary: it takes imaginary elements and roots them in reality, and sugarcoats real elements in imaginary wraps. The trick is not to call a spade a spade, i.e. not to place two firm feet on one side of the spectrum; otherwise you would shake the balance between reality and imagination that the viewer cannot find in real life.Whatever your sentiments are towards the film, Noé – purposefully or inadvertently – raises some important issues: what if cinema does away with the aesthetics of presentational euphemism? Would it undermine its role as an artistic medium? Would it put the viewer on the defensive, being constantly faced with the unrefined reality of what (s)he dreads/desires?The way I see it is that Noé created an extremely stimulating film, not sexually as he probably desired but intellectually and sentimentally.I'm grateful I watched Love alone and had the chance to struggle with and make sense of all those feelings and thoughts by myself. I can imagine how uncomfortable it would be watching it in a movie theater with other people, let alone how the actors felt while shooting!",
         "Love",
         "6.1",
         "Drama, Romance",
         "2015"
        ],
        [
         "28",
         "tt3774694",
         "Great lighting",
         null,
         "This film tells the story of a man trapped with his wife and child, yet he keeps on thinking about his ex-girlfriend who is not contactable. The story then winds back in time to tell how his relationships with his ex-girlfriend and his wife come about.I have heard about the gratuitous explicit sex scenes in the film, and indeed there is a prolonged sex scene every five minutes. The story is quite interesting, as the man reflects and reminisces about Elektra, who is so adventurous that she becomes increasingly unstable. The problems encountered by the man are quite real life, and viewers can easily relate to his situation. What strikes me is that the lighting effects of the film is very remarkable, the use of focused lighting enhances the mood a lot. The slow strobe effect in the swingers' club is captivating. Overall, \"Love\" is worth a watch as it depicts real life relationship problems.",
         "Love",
         "6.1",
         "Drama, Romance",
         "2015"
        ],
        [
         "29",
         "tt3774694",
         "Not great, but far from bad",
         "7.0",
         "Let's just get this out of the way, there is a lot of unsimulated sex in this movie. This is definitely on par with porn, but since it was shot with \"real\" actors it was allowed in theaters. I did see somewhere online that there is a super cut of all the sex scenes from this and it comes in at just under 30 minutes, so let that inform your decision to watch or not.This is a story of a couple that are in a very sexual relationship and decide to invite their beautiful neighbor to join them. This causes problems.If you like 9 Songs then you will most decidedly like this. Love probably features more sex but does offer a lot more plot as well.",
         "Love",
         "6.1",
         "Drama, Romance",
         "2015"
        ],
        [
         "30",
         "tt3774694",
         "Love: \"Art?\" No, no it really isn't.",
         "2.0",
         "PlotMurphy is an American living in Paris who enters a highly sexually and emotionally charged relationship with Electra. Unaware of the effect it will have on their relationship, they invite their pretty neighbor into their bed.CastNot familiar with the cast but brought to you by Gaspar Noé, the man who gave us Climax (2018) and the highly controversial Irreversible (2002), he clearly has a \"Style\". Notable mention regarding Aomi Muyock who was just, dreadful.VerdictI've just done my top 10 French movies and have to say it's not a great selection, me and French cinema have never been on the same page especially when it's come to horror movies.Love is an award winning \"Art\" film and wow do I use that term loosely. Evidence that if the right people call it art then enough people will consider it as such. Love is an adult film, let's not kid ourselves and I don't mean as in it's aimed at adults I mean this is adult entertainment, the stuff that would be in the backroom of a video store behind a curtain. Get me?The opening scene was a drawn out emotionally dead sequence which was graphic and set the tone but immediately made me question what I was watching.The movie is advertised as a a drama/romance. Let me be clear this has a lot of drama, but none of it is engaging. You'll hate the characters and be frustrated that there are more \"Adult\" scenes that dramatic content. And romance? Don't make me laugh, there's nothing romantic about this film. It focuses on a highly toxic relationship that should never have been.This is not a movie, it's pornography.RantsLet me be clear, I'm no prude and have no problem with sex and nudity in films in the slightest. However that's all this is, I don't understand why they dressed this up as a legitimate film or why it got the praise it did. There is a very fine line between this and the average Jenna Jameson movie so why is that smut and this is art?BreakdownBarely a movie\nAomi Muyock was awful\nThis is not art.",
         "Love",
         "6.1",
         "Drama, Romance",
         "2015"
        ],
        [
         "31",
         "tt3774694",
         "A lengthy study of hungover sexcapades",
         "7.0",
         "There's been discussion about whether there should be sex scenes in movies at all. There are those who claim that they are distracting, offer nothing to further the story and could be skipped and nothing would be missed. Sometimes they are outright obscene. I find myself on the opposing camp. I like my movies controversial, and I think movies shouldn't shy away from subject matter because it is 'risky'. Sex is a part of life, it's emotional and intense and important, so it makes sense that movies would delve into it.Now 'Love' is a movie that borders on pornography, that's how deeply it delves into the matter of sex. The plentiful sex scenes are reportedly unsimulated - meaning the actors actually really have sex on screen, which is enough for many to label it obscene. And obscene it is. The film is full of depravity, sexual lust, fetishes, and generally morally reprehensible behavior. So if you don't go for that kind of thing, you should steer clear of this movie.I saw a review of 'Love' calling it pretentious. I don't think the movie is pretentious so much as the main character himself is, spouting off about 2001: A Space Odyssey and how he's going to be a great director. He's not a very respectable person no matter how you look at it. He cheats on his girlfriend and when he has to take responsibility and raise a baby with his hook-up, he constantly pines for his days of fooling around and doing drugs. Actually, he never really stops doing drugs.The story - and the 'message' - of the movie is about how the young American film-maker idolizes French bohemian sexuality and freedom, but ends up getting sick of too much of it. But it's not a French movie and not an American one. It's simply a Gaspar Noé movie, and it shows. There was barely any script, no guidelines or rules in making the movie. It's the director's movie, completely focused on style and theme, color and composition and rhythm, largely disregarding story and even characterization. There are frequent short 'black-outs' all over the movie, which made me think that my copy was faulty somehow. The movie has a unique flow, it's nonchronological, following the thoughts and memories of a character suffering from a terrible hangover.I have to make a comparison to 'Blue Is The Warmest Color', which really is a French movie, also has a lengthy running time, and also features a whole lot of sex. That movie was emotional and relatable, it was like a look into a life that was really lived, and despite the controversial lesbian sex scenes it strangely had a lot of innocence in it. 'Love' is like the drug-drenched, depraved, delirious and destructive, nihilistic counterpart to that movie.",
         "Love",
         "6.1",
         "Drama, Romance",
         "2015"
        ],
        [
         "32",
         "tt3774694",
         "Watch porn.",
         "3.0",
         "I have nothing against sex. I love it, I love watching it but this was painful. The sex was hot but the story and the acting was terrible. I think it was not worth it and very very long. I can see what the director was trying to do but he missed the mark. For the same kind of story with the sex dial down and the story dial up I would suggest The Dreamers. This story could be told in about 30 min, add maybe 30 min to get invested in the characters and that would be good. 2h is way to long for this and 5 min sex scene every 10 min is too much. Like the title says. Watch porn it will be more fulfilling.Now for the actual review. The plot is simple. It is a guy reflecting on a past relationship. The guy is a little to dysfunctional to be in a healthy one but it is not extreme. The only real question you have during the movie does not get answered and that is about it. I would not recommend this to anyone.",
         "Love",
         "6.1",
         "Drama, Romance",
         "2015"
        ],
        [
         "33",
         "tt3774694",
         "Forget the marketing and chatter, there is a real film here.",
         "8.0",
         "The script is laughable and the acting (often voice-over), too. The 3D sex is well marketed. And yes, during certain scenes people got up and left. Yet. The film doesn't argue to be anything beyond a meandering stroll into the gallows melancholy. And it does this very very well. The film features no highbrow intellectual conversations but instead, favors the same lines you've probably slung at your lovers. Again and again and again. Just like the sex you've had with your lovers again and again and again. You know their bodies and you know how to please them and above all, you know how to hurt them. Sorrow. There's a resplendent simplicity here that hypnotizes the viewer.You hear music banging inside the club, yet the lovers are outside in halflight. Having sex, obviously. This is a good image of what this film surprisingly achieves best: intimacy. And it fights for that with it's magnificent camera-work and editing.But what would this review be if it didn't talk about the 3D sex? Love and cinema are inseparable. Love stories are why you stick glued to a chair for a couple of hours. Raw sex is part of love, yet, films used to cut to birds necking after a kiss. Then it became steamy windows. Signs, metaphors, analogies, semiotic nausea. And here, Noé takes that away which makes the film even coarser, and ultimately more brutal.I wanted to write this review because the whole marketing (\"finally a love story restricted for -16) and shock value (an eye-rolling warning in the opening credits) have cheapened what this film has achieved and I encourage viewers to look beyond.",
         "Love",
         "6.1",
         "Drama, Romance",
         "2015"
        ],
        [
         "34",
         "tt3774694",
         "Well-made project but ends up tripping over its own interpretation of reality.",
         "6.0",
         "Overly ambitious project about a millennial love arc that ends in heartbreak, but what are the lessons learned? Murphy (Karl Glusman) is an open-minded film student in Paris who meets Elektra (Aomi Muyock), and the two embrace their high sex drives with giddyness. However, after the relationship embraces polyamory and swingers culture, only one of the two is emotionally stable enough to handle it.The film is directed really well by Noé, who by now should know well enough how to make it all super claustrophobic and uncomfortable for the viewer. The cinematography is good but relies too heavily on saturation but it's never really an issue. Nonlinear storytelling is clear, concise, and there's some really neat editing at parts. The story does drag often, and the film overall could've cut out 10-15 minutes of filler.The real issue with \"Love\" is the lack of chemistry between Murphy and Elektra -- we just don't see it, pretty much ever. The writing is there, but the actors just cannot grasp it. This is largely because -- are you ready? -- they aren't actors; Noé met both Glusman and Muyock in a club one night and asked them to star. It's clear that he wanted to achieve the most organic and natural relationship dynamic on-screen by not using \"real actors\" -- but in what is supposed to be an emotionally charged film, that just doesn't work.In fact, in a sort of disturbingly surreal manner, the very same issues that the film is trying to highlight in millennial relationships (emotional maturity and boundaries over sex) seem to show up in the unsimulated sex scenes between Glusman and Muyock. Glusman constantly falls out of character, allowing his own sexual desire to ruin the scene and any emotional impact Noé was looking for. Muyock seems bored and uninterested -- and who could blame her? -- likely due to Glusman's obvious zeal about getting paid to fuck her. I'm not sure he entirely understood the fact he was in an art film, and in remaining ignorant, he ends up verifying Noé's entire thesis: young adults, especially men, get lost in the idea of sexual nirvana over the thing that truly matters: love.The second half of the film lifts the veil on Murphy's narcissistic and emotionally abusive behavior in the relationship, and tragically, Glusman is a good actor when portraying an unstable douchebag (and Muyock is phenomenal when screaming at him).The film finishes the same place it starts, seeming to depict Murphy at rock-bottom in a horrible and accidental family dynamic: a fitting bookend to a relationship that was destroyed not by too much sex, but his own fear of it. The ending is eerie and powerful, and hints at the generational ripples that will be felt for decades because of his own actions. It's a great story, and sort of well-acted, but it ends up merely tripping up on its own interpretation of reality instead of offering us anything particularly new.",
         "Love",
         "6.1",
         "Drama, Romance",
         "2015"
        ],
        [
         "35",
         "tt3774694",
         "Sex doesn't always sell",
         "2.0",
         "Love is Gaspar Noe's latest film. It's essentially porn. Long, drawn out sequences of sex throughout. But there's a story, and that's what could be interesting about this film. Not since the early 70's has pornographic films experimented telling actual stories instead of just getting straight to business. Nymphomaniac is the last film of the modern era that attempted this, and it absolutely blew me away. This would've been fascinating, but instead, it's PAINFULLY boring. The story line and dialogue sucks. I didn't feel for anyone in this film. The acting was extremely stilted, but in porn films that's pretty much the norm. The cinematography is the only standout. It's beautiful to look at, as most Gaspar Noe films are. However, I despised the black screen that would appear every time there was a cut. As well as the many shots of the main character standing inside a doorway with his back turned to the camera, listening to an annoying voicemail. Why did he do that? Why would he think that would work? If there's a profound reason for those two editing decisions, I'd like to know.. not that it would make me feel any differently, I still hate it. Love is not only a missed opportunity, it's a film I'll never remember, or want to remember.",
         "Love",
         "6.1",
         "Drama, Romance",
         "2015"
        ],
        [
         "36",
         "tt3774694",
         "Anything that can go wrong, will go wrong.",
         "8.0",
         "'Love' will most likely be discredited by many due to it's sheer honesty, like many films of it's kind are. Yet this honesty, as brutal and daring as it might seem, feels necessary to connect with and understand what the characters are going through, on an entirely new emotional level. In the words of Murphy, Gaspar Noe might have made the only movie that truly depicts 'sentimental sexuality'. 'Love' has many subtle and not-so-subtle references to the underlying story and to the director himself. Gaspar's mother is named Nora Murphy, while Murphy's son is named Gaspar and Electra's ex boyfriend - Noe. His favorite movie is Kubrick's '2001', while hers is Lang's 'M', both of which seem to fuel Murphy and Electra's behavior throughout the movie, where Murphy is often aimlessly overwhelmed with hope and desire, while Electra seems unable to forgive.Gaspar Noe constantly cuts through the past and the future, using the techniques he is so familiar with since Irreversible. The movie abruptly switches between various stages of Murphy's and Electra's relationship, always cutting back to the present, where Murphy's is in absolute emotional agony and despair, raising a child with Clara. At times Murphy and Electra are so deeply engrained in one another that their fights and dialogues seem outright comical and immature, as if we are observing a 16 year- old couple. But this is truly where 'Love' stands out. Being in love feels and looks exactly like this, it's raw, emotional and brutal yet foggy and sweet; when no one else exists or matters.In one of Electra's and Murphy's conversations they talk about the sad reality that they are going nowhere and dragging each other down, they discuss taking a break. It is an extremely sad and emotional scene, where the thought itself brings so much fear into them, that they simply end up holding each other even tighter.The script for 'Love' is only 7 pages long. It is full of beautiful and weird dialogues and extremely emotional, 'free-played' graphic scenes. These scenes however are not there to impress the viewer or open the doors to the unknown. This is also not a nymphomaniac-like sexual exploration. Gaspar Noe does a masterful job in showing us the true emotional aspect of love, in it's raw and relatable form, sex.The sound-score is stunning, with the music gradually changing depending on the mood and the context of the scenes. Even though a lot of times it seems like we are watching the same people 'fuck' in the same positions, different context, feelings and music make each of these scenes truly unique and mesmerizing on it's own. Noe also does a wonderful job in his minimalistic depiction of the story and the scenery. Murphy and Electra always wear contrasting colors, while the background is usually very simple yet fitting to them both. As if to say that when in love, everything should be seen through the eyes of the lovers. 'Love' might sometimes seem silly, overly graphic and way too sentimental, yet it hits all the right notes.",
         "Love",
         "6.1",
         "Drama, Romance",
         "2015"
        ],
        [
         "37",
         "tt3774694",
         "What is Love?",
         "6.0",
         "While I didn't try to think of the song, the line \"Baby don't hurt me ... don't hurt me no more\" came to mind. And it's not like it doesn't suit or fit with the movie (if you excuse the pun). And let's get this out of the way straight ahead: If you didn't or don't already know, this movie has scenes of explicit sex in it. And it begins with a masturbation scene, to shock you right out of the gate (or those who will be offended by it of course).It goes without saying that this is full of nudity. You may not have seen this actors before, but you'll see everything of them in this. It's not only being naked physically, but also mentally. Laying emotions out there and going through motions (literally and metaphorically) is draining. Both for the actors and the viewers. The story is simple. It's about love or the idea of it.Which brings us back to our initial question. Are we able to appreciate what we have? Or do we long for things we can't have? Can we be happy with the person we spend our time or is the temptation for something new too big? Obviously that depends on the individual and their \"world\" view. Also their emotional state. The movie is as you can tell not an easy watch ... for multiple reasons. The message is clear though ...",
         "Love",
         "6.1",
         "Drama, Romance",
         "2015"
        ],
        [
         "38",
         "tt3774694",
         "A long and tedious bore feast",
         "1.0",
         "Love, as it is titled, should be called Bored Whiny Man Child. This dirge clocks in at a whopping 2 hours and 15 minutes. I had to stop, walk away for a while and then return to watch this sniffling character act out his hypocrisy in such myopic detail. The relationship between the two principal characters is like oil and water. The only thing they share is a voracious appetite for sex, lots and lots of sex. The add a third person into the mix who winds up getting pregnant by the guy which leads to the main couple breaking up. Since they all were in a ménage à trois, that shouldn't have been an issue but it was. The female leaves him and we spend the rest of the film exploring his memories of her and him having more sex. They participate in orgies and he gets mad because she's having sex with other guys. He can had fun but she can't. If your life is nothing but the sex, why should that matter especially if he can participate and she can't? And there lies the quagmire with this presentation. This guy is totally immature. You become bored with him and with him having sex. Closeups of him with his exploding orgasms weren't shocking, innovative, wanted or move the picture along. After a while, you just want this story to just wrap up. You wonder what is the point? There is nothing redeeming about it. The other female character who has had his child is completely ignored. She is just another prop instead of exploring that dynamic of how they are dealing with a child together. Instead, we find his character crying in the bathtub with the toddler. And you have to ask yourself once again, the time he and his old girlfriend were together appears to be at least three years because you have to factor in the time the girl was pregnant and then you jump in time to see a toddler at least two years old. So why did his old girlfriend/s mother call him about her and why did he just started thinking about someone who hasn't been in his life for a long time? The writing was just poor. This guy was suppose to be some aspiring filmmaker. He is neither aspiring or making films and filming your naked girlfriend on a small video camera doesn't qualify you one bit. That aspect of the character was totally ignored as well. This was just bad. If you want to see if because of the unsimulated sex scenes, I would advise just watch some 5 minute porn clip and avoid this colossus time waster.",
         "Love",
         "6.1",
         "Drama, Romance",
         "2015"
        ],
        [
         "39",
         "tt3774694",
         "As thought provoking and stylish as you'd expect",
         "7.0",
         "As thought provoking and stylish as you'd expect. Kind of like a hybrid of Enter the Void, Nymphomaniac, The Lobster and Weekend. You can feel the love that has gone into this film.The sex is both beautiful and ugly. It's not porn, more like an aestheticized version of somebody's personal sex tape, but one designed to provoke contemplation more than any other response. To feel any more real it would need to be in the style of a documentary, which would have the effect of distancing you from the characters. I didn't feel like I was experiencing the story directly (as I do with good suspense movies), but I did want things to work out well for the characters. If you judge a movie by how much the pacing and suspense immerses you, you won't enjoy Love. If you can be immersed into a movie's atmosphere and want something to feed your imagination, then you will get a lot from it.A lot of reviews and comments on IMDb seem to say it is not a thought provoking movie, or that it is pretentious, yet the poster was moved to write about their thoughts on it, so it certainly isn't empty. I found talking about it can result in the conversation going to some very interesting places.It has earned a place in the history of cinema, and is hopefully a step away from the feelings of shame people feel about sex, a step towards greater freedom in art, culture and cinema.",
         "Love",
         "6.1",
         "Drama, Romance",
         "2015"
        ],
        [
         "40",
         "tt3774694",
         "Self-Indulgent Melodrama",
         "2.0",
         "No one was able to walk out of the theater this evening as the director Gaspar Noe was in the audience. I'm certain he took note of folks laughing at scenes meant to have profound emotional impact, like the entire ending. Little character development with the main character's 17 yr old wife, or 18, they had sex when she was 16, nothing more than a prop. Their child, the unintended creation of a broken condom, is named \"Gaspar\". The wife is an orphan of sorts, unwanted by her mother but somehow has the cash and wherewithall to rent an apt in Paris and do nothing more than go clubbing, listen to her iPod and bang strangers. Profoundly self-indulgent about lost love, but hard to take seriously when the lost love happens between supposed college students (we never see the college, college books or a single classmate) living and partying in Paris, none of whom even are even remotely worth caring about. Except perhaps the teenage wife, after she gives birth, but again her only role is to get banged, have a kid and though otherwise absolutely gorgeous, kind and loving as only a supermodel with minimal lines can be, this one only serves to annoy the hell out of the main character. Reminded me of Brown Bunny, but that was a film with guts. This is just an excuse to film cumshots in 3D, wrapped around a plot that never went anywhere with no sense of finality or a hint of revelation or completion. In fact, the movie had to flash a massive THE END for the audience to know the film was over.",
         "Love",
         "6.1",
         "Drama, Romance",
         "2015"
        ],
        [
         "41",
         "tt3774694",
         "A marriage made in hell...",
         "6.0",
         "... and no I am not talking about the characters in the film, I am talking about what happens when an A-list director \"falls in love\" with the idea of doing a sexually explicit film.I want to be clear about this and I think the data will bear me out. Make a list of all the films in the last 100 years by A-list directors who felt confident they could infringe on territory formerly occupied only by the porn industry and still prevail with a hit film...? Are you done? I will save you time. I did the list myself. And the answer is none, zero, zip, nada.Just like there are in the porn industry a handful of directors who constantly try to push the boundaries of their craft into the mainstream (which almost always means soft light and lots of white sheets, films that most resemble a commercial for TIDE) Noe, a brilliant artiste (Irreversible and Enter the Void were both brilliant) tried to push the envelope .. and ended up with junk mail.Sure, if you are determined to see a silk purse where others are seeing a sow's ear, you could pretend that this film has a great deal to say about men's expectations about love and marriage.But this is a review just between the writer and the reader, and we respect each other too much to lie. So I will be clear -- Noe went where angels fear to tread. And ended up with a film that, for posterity, is simply not going to make his A-reel.",
         "Love",
         "6.1",
         "Drama, Romance",
         "2015"
        ],
        [
         "42",
         "tt3774694",
         "Filmmaking at its worse",
         "1.0",
         "There's a point when the main character and voice-over narrator on Love says that he never sees a movie presenting \"emotional sexuality\". Sex, semen and blood, that's what people would like to see. Murphy is a filmmaker, or so he says. Actually, I think he is just a puppet to Gaspar Noé intents in this too stereotyped film that had the big ambition to be innovative.Love has been creating some noisy around the world, and has been like that since its premiere during Cannes. Explicit sex and love scenes on 3D, that is how the movie has been known mostly. Despite the bad reviews, I thought it would be at least interesting. It wasn't, at all.Before the first scene, there's a sign announcing the moment to put the 3D glasses on. And so the terrible nonsense begins. At the very begin I've already realized this movie is just noisy. The sex is explicit and so, so boring, that I was begging to the characters to finish their business as soon as possible. What was announced as innovative, is just a bunch of clichés put together. It is filmmaking in its worse. Gaspar Noe thinks he knows so much, and that he is above the other mere mortals. His condescending arrogance is staggering, actually. I imagine him thinking: this world is so mediocre, full of prude hypocrites, I'll show them how it's done and make a movie about excruciating love and sex. So he started to write it and finally realized it wouldn't be so easy. To talk about life, and love, and sex it is necessary to be really alive, and not just criticizing the other's ways from outside. Unable to write a true love sexy story, he decided then to check every box that came to his mind relating to sex: explicit scenes, close on dicks, threesome, sex clubs, homosexual sex, trannies, public sex and so on. As if a close on a ejaculating dick would be the quintessence of a revolutionary speech. There's a bunch of unrelated scenes, as if the awful voice-over could succeed in giving them some meaning. An example: at one scene, the couple are lying on bed after sex, and from nothing, the guy asks the girl about her biggest fantasy. Sexual? she replies. Of course, he says. And she tells him how that she would like have sex with him and a third woman, a blond with blue eyes. The next day or so, they are getting their mail when they meet the new neighbor: a sixteen blue eyed blond that are living next door. After the badly filmed threesome, the guy says: thanks for Europe! (a place where eh would have a three way sex with a minor). Did you get the image? So.Gaspar Noé, by his main character, affirms that there's not sexual love stories on the screen. I think he never saw any of Bernardo Bertolucci's movies. Or the Spanish/French production Sex and Lucía, a beautiful story about love with stunning and heartfelt sex scenes (Paz Vega is incredible). Or even Betty Blue, for everybody's sake. Or even 9 Songs - even with all the bad reviews, this one is actually honest. Sorry the rage, but it is inevitable. Noé should look better around him, or, even better, he should head to the DVD section on a store and just see how wrong he is. I've read how the acting here is terrible, and it is a fact. The actors are not even able to walk naturally (it is so staged that hurts), let alone show deep feelings or have real sex. And despite what has been said, I don't think it is difficult to find good actors that would accept to be a part of this project if it was a good one. At least his protagonist should have been more endearing - even if I'm not sure that it would have saved this doomed story anyway. Because the problem here is not just the bad acting, the lousy dialogues, the incredibly lousy and staged sex scenes. The main trouble in this movie is the sexist, arrogant, wrongful view about the world and people. And when a filmmaker start this way, there's nothing that can save him from the impending doom. People were leaving the theater constantly, they were dropping like flies. However, rather than doing that by how explicit the sex is, I think people did leave for the sole reason of how bad is this movie. It's unbearable in fact. And we see no end to it, two hours and fifteen minutes of sheer bad filmmaking. Not could be more far from deep emotion, an intense love story and visceral sex. (First published at http://onemovieadaywithamelie.blogspot.com.br/2015/09/day-190-love- september15.html",
         "Love",
         "6.1",
         "Drama, Romance",
         "2015"
        ],
        [
         "43",
         "tt3774694",
         "Something to be Said",
         "9.0",
         "You never quite know what you're going to get from Gaspar Noe and he doesn't disappoint here. As he did with Enter the Void and Irreversible he has created a film that will not soon leave your heart, mind and soul in Love. Love is a story of mass proportions and a film to be watched carefully.",
         "Love",
         "6.1",
         "Drama, Romance",
         "2015"
        ],
        [
         "44",
         "tt3774694",
         "There's an amazing movie in here somewhere",
         "7.0",
         "The plot was really really good it's emotional Complex and sad. Where this film fails is shockingly the sex. There's too much weird I know. But really it doesn't add a ton to the relationship especially with omni. There's definitely some uneeded scenes. I get that sex was important in there relationship and it would be fine to show that but Jesus christ does this movie spend a load of time with it. I found the interactions between characters much more interesting. Just too long and the payoff was.. OK I guess it's a tragedy piece in a lot of sense but the landing was meh. I would of preferred more time with omni and the aftermath of.what happend.. Still it's a solidd movie that depicts very real things and issues.",
         "Love",
         "6.1",
         "Drama, Romance",
         "2015"
        ],
        [
         "45",
         "tt3774694",
         "Best porn movie ever!",
         "3.0",
         "It is a 2:04 hours movie.Take out all the scenes where they present you with genitalia and you have a bit over one hour left. If it was a philosophical movie, perhaps there would be a part of the sex sequences that carried more meaning - but there is no such relief in this movie.We are presented with a stereotypical immature, selfish, arrogant, possessive young male studying cinema in Paris - apparently only to get stoned and laid. He meets this sweet, proactive, sexually empowered young woman that also enjoys drugs. Not the least stereotypical, as she falls for him with deep and unbridled love. His love is also deep but he is the villain here, so he get as many other women as the time not having sex with his official one allows.She notices it (who wouldn't, at this rate?) and tells him she also has had her escapades. He makes scene after scene, including beating up her lover (an ex- boyfriend). He tries to bully a police officer inside a police station.She stands by him in another stereotypical situation.Then this monster gets the pretty blonde underage neighbour girl pregnant. This is where she draws the line. Notwithstanding the fact that she was the one that suggested they get another woman in bed. Despite the fact that she made the move to invite the blondie.Then she goes down into a spiral of drugs and alcohol, shutting him off her life completely.Once more, stereotypes.He keeps the blondie, they have a little boy (that he names after the child he and the lost love dreamt to have together - stereotype, anyone?) and, as he drags himself in a pool of self-pity and despair (which does not go unnoticed by said blondie), comes the news that the original girl has been missing for a couple of months.Then he spends a full day calling people to try and find her. In the meanwhile, blondie leaves with the boy, telling him to finish his past so they could have a future.Obviously, he doesn't find her - which doesn't preclude his opium- induced dreams of her to interrupt all the time.There is a very awkward scene with him and the child in the bathtub, after blondie's face tells us she will leave him.And the movie ends with him and original girl embraced under the shower professing endless love and protection.Oh! Did I mention that it is partly filmed backwards, as 'Irreversible' was? By the way, they used a very similar setting - an underground passage - in one of the sequences. Check it out: http://www.imdb.com/title/tt0290673/?ref_=nv_sr_1 Or that this theme of intense, destructive, drugged and short-lived love was way better portrayed in 'More'? Also, a good part of the soundtrack comes from Pink Floyd.... See it: (http://www.imdb.com/title/tt0064694/?ref_=fn_al_tt_2In other words, apart from all the sex, this is a derivative, shallow and unworthy movie...The '3' I gave the movie is for photography and soundtrack. Really good in all scenes, conveys mood and context.The rest is crap.",
         "Love",
         "6.1",
         "Drama, Romance",
         "2015"
        ],
        [
         "46",
         "tt3774694",
         "Beautiful",
         "8.0",
         "Even though the acting could be better, it is a very nice movie to watch.\nSex through deep love is just beautiful.\nWorth to watch.",
         "Love",
         "6.1",
         "Drama, Romance",
         "2015"
        ],
        [
         "47",
         "tt3774694",
         "Good,Weird,Odd and really different",
         "7.0",
         "Well the movie is really different, i felt sad for the main male character with his behavior, the sex scenes are really strong but not from another world, I was not horny, in any sex scene, i just see trying to understand the director point of view, and i hope i did understand this...natural,humans,sex,internet,porn,bisexual and a lot of other things that is happening and will happen in the future, i liked the movie and I did not like, i am giving 7 because the director did a really great job to express the reality of the movie love,behavior,choices and sex. Excellent cinematography, average performance / odd of the actors, good soundtrackof course. My Opinion i am not the master of cinema, but i don't undestard why credential critics give so many bad talk of this movie, i am sure some of they watched/watch porn and/or do sex.",
         "Love",
         "6.1",
         "Drama, Romance",
         "2015"
        ],
        [
         "48",
         "tt3774694",
         "Porn without a plot",
         "1.0",
         "Porn disguised as an artsy love story. 95% of the movie was sex and the rest was going to clubs, drinking, and drugs. Did these people even have jobs? Do yourself a favor and watch a porno. At least they have plots.",
         "Love",
         "6.1",
         "Drama, Romance",
         "2015"
        ],
        [
         "49",
         "tt3774694",
         "Love is Possession",
         "7.0",
         "Love is kind of an exhausting film to watch, but based on how the film is shot and edited, I understand that that's probably its intention.I came out of this film feeling that Love is not the idealistic thing it is made out to be. It's visceral, primal, disgusting, and somewhat like an illness. So much of this film is shot and edited so starkly that the sex scenes, especially, are exceptionally uncomfortable and bordering on repulsive to watch.Coming away from this film, it was very clear to me that this is offering criticism of the quality of millennial relationships. As youth are bound to be, this film shows how sex-obssessed young people can be but juxtaposes it with the failure of experimentation with polyamory which I found really added color and an interesting dynamic to its commentary. There's this obsession with sex and being open to the same kind of free love that existed in the hippie counter culture of the American 1960s, but millennials aren't hippies and still idealize monogamous relationships - making the celebration of free expression of sexuality to be incredibly difficult, if not, impossible.Love had me thinking but it's not a film I would recommend to the casual moviegoer or for those who aren't into the more artistic, independent side of film making.I respect this film for what it has to say as there is more to this film than what I mentioned, which gives it great thematic depth, but I can't say I want to see it again any time soon.",
         "Love",
         "6.1",
         "Drama, Romance",
         "2015"
        ]
       ],
       "shape": {
        "columns": 8,
        "rows": 6291
       }
      },
      "text/html": [
       "<div><style>\n",
       ".dataframe > thead > tr,\n",
       ".dataframe > tbody > tr {\n",
       "  text-align: right;\n",
       "  white-space: pre-wrap;\n",
       "}\n",
       "</style>\n",
       "<small>shape: (6_291, 8)</small><table border=\"1\" class=\"dataframe\"><thead><tr><th>imdb_id</th><th>review_title</th><th>review_rating</th><th>review</th><th>title</th><th>rating</th><th>genre</th><th>year</th></tr><tr><td>str</td><td>str</td><td>i64</td><td>str</td><td>str</td><td>f64</td><td>str</td><td>i64</td></tr></thead><tbody><tr><td>&quot;tt0369610&quot;</td><td>&quot;Spielberg Magic, This Is Not. …</td><td>7</td><td>&quot;You may have heard some critic…</td><td>&quot;Jurassic World&quot;</td><td>6.9</td><td>&quot;Action, Adventure, Sci-Fi&quot;</td><td>2015</td></tr><tr><td>&quot;tt0369610&quot;</td><td>&quot;Not a patch on the original Ju…</td><td>7</td><td>&quot;The original Jurassic Park sti…</td><td>&quot;Jurassic World&quot;</td><td>6.9</td><td>&quot;Action, Adventure, Sci-Fi&quot;</td><td>2015</td></tr><tr><td>&quot;tt0369610&quot;</td><td>&quot;Its a Jurassic World after all…</td><td>7</td><td>&quot;The 4th film in the Jurassic P…</td><td>&quot;Jurassic World&quot;</td><td>6.9</td><td>&quot;Action, Adventure, Sci-Fi&quot;</td><td>2015</td></tr><tr><td>&quot;tt0369610&quot;</td><td>&quot;Worthy Sequel To One Of The Gr…</td><td>null</td><td>&quot;Let&#x27;s start this by stating ho…</td><td>&quot;Jurassic World&quot;</td><td>6.9</td><td>&quot;Action, Adventure, Sci-Fi&quot;</td><td>2015</td></tr><tr><td>&quot;tt0369610&quot;</td><td>&quot;Manages to somewhat return the…</td><td>6</td><td>&quot;Modernized and polished entry …</td><td>&quot;Jurassic World&quot;</td><td>6.9</td><td>&quot;Action, Adventure, Sci-Fi&quot;</td><td>2015</td></tr><tr><td>&hellip;</td><td>&hellip;</td><td>&hellip;</td><td>&hellip;</td><td>&hellip;</td><td>&hellip;</td><td>&hellip;</td><td>&hellip;</td></tr><tr><td>&quot;tt27403986&quot;</td><td>&quot;About a man&quot;</td><td>9</td><td>&quot;Superb casting with Nicholas H…</td><td>&quot;Juror #2&quot;</td><td>7.0</td><td>&quot;Crime, Drama, Mystery&quot;</td><td>2024</td></tr><tr><td>&quot;tt27403986&quot;</td><td>&quot;Not quite a unanimous verdict&quot;</td><td>6</td><td>&quot;This movie had the potential t…</td><td>&quot;Juror #2&quot;</td><td>7.0</td><td>&quot;Crime, Drama, Mystery&quot;</td><td>2024</td></tr><tr><td>&quot;tt27403986&quot;</td><td>&quot;A house built on sand&quot;</td><td>5</td><td>&quot;I doubt that this case would e…</td><td>&quot;Juror #2&quot;</td><td>7.0</td><td>&quot;Crime, Drama, Mystery&quot;</td><td>2024</td></tr><tr><td>&quot;tt27403986&quot;</td><td>&quot;He&#x27;s just a regular guy.&quot;</td><td>6</td><td>&quot;So decidedly un-Eastwood I was…</td><td>&quot;Juror #2&quot;</td><td>7.0</td><td>&quot;Crime, Drama, Mystery&quot;</td><td>2024</td></tr><tr><td>&quot;tt27403986&quot;</td><td>&quot;What is your moral compass?&quot;</td><td>10</td><td>&quot;This movie truly makes you ref…</td><td>&quot;Juror #2&quot;</td><td>7.0</td><td>&quot;Crime, Drama, Mystery&quot;</td><td>2024</td></tr></tbody></table></div>"
      ],
      "text/plain": [
       "shape: (6_291, 8)\n",
       "┌────────────┬──────────────┬──────────────┬──────────────┬──────────┬────────┬─────────────┬──────┐\n",
       "│ imdb_id    ┆ review_title ┆ review_ratin ┆ review       ┆ title    ┆ rating ┆ genre       ┆ year │\n",
       "│ ---        ┆ ---          ┆ g            ┆ ---          ┆ ---      ┆ ---    ┆ ---         ┆ ---  │\n",
       "│ str        ┆ str          ┆ ---          ┆ str          ┆ str      ┆ f64    ┆ str         ┆ i64  │\n",
       "│            ┆              ┆ i64          ┆              ┆          ┆        ┆             ┆      │\n",
       "╞════════════╪══════════════╪══════════════╪══════════════╪══════════╪════════╪═════════════╪══════╡\n",
       "│ tt0369610  ┆ Spielberg    ┆ 7            ┆ You may have ┆ Jurassic ┆ 6.9    ┆ Action,     ┆ 2015 │\n",
       "│            ┆ Magic, This  ┆              ┆ heard some   ┆ World    ┆        ┆ Adventure,  ┆      │\n",
       "│            ┆ Is Not. …    ┆              ┆ critic…      ┆          ┆        ┆ Sci-Fi      ┆      │\n",
       "│ tt0369610  ┆ Not a patch  ┆ 7            ┆ The original ┆ Jurassic ┆ 6.9    ┆ Action,     ┆ 2015 │\n",
       "│            ┆ on the       ┆              ┆ Jurassic     ┆ World    ┆        ┆ Adventure,  ┆      │\n",
       "│            ┆ original Ju… ┆              ┆ Park sti…    ┆          ┆        ┆ Sci-Fi      ┆      │\n",
       "│ tt0369610  ┆ Its a        ┆ 7            ┆ The 4th film ┆ Jurassic ┆ 6.9    ┆ Action,     ┆ 2015 │\n",
       "│            ┆ Jurassic     ┆              ┆ in the       ┆ World    ┆        ┆ Adventure,  ┆      │\n",
       "│            ┆ World after  ┆              ┆ Jurassic P…  ┆          ┆        ┆ Sci-Fi      ┆      │\n",
       "│            ┆ all…         ┆              ┆              ┆          ┆        ┆             ┆      │\n",
       "│ tt0369610  ┆ Worthy       ┆ null         ┆ Let's start  ┆ Jurassic ┆ 6.9    ┆ Action,     ┆ 2015 │\n",
       "│            ┆ Sequel To    ┆              ┆ this by      ┆ World    ┆        ┆ Adventure,  ┆      │\n",
       "│            ┆ One Of The   ┆              ┆ stating ho…  ┆          ┆        ┆ Sci-Fi      ┆      │\n",
       "│            ┆ Gr…          ┆              ┆              ┆          ┆        ┆             ┆      │\n",
       "│ tt0369610  ┆ Manages to   ┆ 6            ┆ Modernized   ┆ Jurassic ┆ 6.9    ┆ Action,     ┆ 2015 │\n",
       "│            ┆ somewhat     ┆              ┆ and polished ┆ World    ┆        ┆ Adventure,  ┆      │\n",
       "│            ┆ return the…  ┆              ┆ entry …      ┆          ┆        ┆ Sci-Fi      ┆      │\n",
       "│ …          ┆ …            ┆ …            ┆ …            ┆ …        ┆ …      ┆ …           ┆ …    │\n",
       "│ tt27403986 ┆ About a man  ┆ 9            ┆ Superb       ┆ Juror #2 ┆ 7.0    ┆ Crime,      ┆ 2024 │\n",
       "│            ┆              ┆              ┆ casting with ┆          ┆        ┆ Drama,      ┆      │\n",
       "│            ┆              ┆              ┆ Nicholas H…  ┆          ┆        ┆ Mystery     ┆      │\n",
       "│ tt27403986 ┆ Not quite a  ┆ 6            ┆ This movie   ┆ Juror #2 ┆ 7.0    ┆ Crime,      ┆ 2024 │\n",
       "│            ┆ unanimous    ┆              ┆ had the      ┆          ┆        ┆ Drama,      ┆      │\n",
       "│            ┆ verdict      ┆              ┆ potential t… ┆          ┆        ┆ Mystery     ┆      │\n",
       "│ tt27403986 ┆ A house      ┆ 5            ┆ I doubt that ┆ Juror #2 ┆ 7.0    ┆ Crime,      ┆ 2024 │\n",
       "│            ┆ built on     ┆              ┆ this case    ┆          ┆        ┆ Drama,      ┆      │\n",
       "│            ┆ sand         ┆              ┆ would e…     ┆          ┆        ┆ Mystery     ┆      │\n",
       "│ tt27403986 ┆ He's just a  ┆ 6            ┆ So decidedly ┆ Juror #2 ┆ 7.0    ┆ Crime,      ┆ 2024 │\n",
       "│            ┆ regular guy. ┆              ┆ un-Eastwood  ┆          ┆        ┆ Drama,      ┆      │\n",
       "│            ┆              ┆              ┆ I was…       ┆          ┆        ┆ Mystery     ┆      │\n",
       "│ tt27403986 ┆ What is your ┆ 10           ┆ This movie   ┆ Juror #2 ┆ 7.0    ┆ Crime,      ┆ 2024 │\n",
       "│            ┆ moral        ┆              ┆ truly makes  ┆          ┆        ┆ Drama,      ┆      │\n",
       "│            ┆ compass?     ┆              ┆ you ref…     ┆          ┆        ┆ Mystery     ┆      │\n",
       "└────────────┴──────────────┴──────────────┴──────────────┴──────────┴────────┴─────────────┴──────┘"
      ]
     },
     "metadata": {},
     "output_type": "display_data"
    }
   ],
   "source": [
    "# Basic CSV reading\n",
    "\n",
    "\n",
    "# With common options\n",
    "# df = pl.read_csv(\n",
    "#     \"your_file.csv\",\n",
    "#     separator=\",\",           # delimiter\n",
    "#     has_header=True,         # first row is header\n",
    "#     skip_rows=0,            # skip N rows\n",
    "#     n_rows=None,            # read only N rows\n",
    "#     dtypes=None,            # specify column types\n",
    "#     encoding=\"utf8\"         # file encoding\n",
    "# )\n",
    "\n",
    "# # Lazy reading (for large files)\n",
    "# df_lazy = pl.scan_csv(\"your_file.csv\")\n",
    "# df = df_lazy.collect()  # Execute when needed\n",
    "\n",
    "# print(df.head())\n",
    "display(df)"
   ]
  },
  {
   "cell_type": "code",
   "execution_count": 14,
   "id": "3294e2bd",
   "metadata": {},
   "outputs": [
    {
     "data": {
      "text/plain": [
       "['imdb_id',\n",
       " 'review_title',\n",
       " 'review_rating',\n",
       " 'review',\n",
       " 'title',\n",
       " 'rating',\n",
       " 'genre',\n",
       " 'year']"
      ]
     },
     "execution_count": 14,
     "metadata": {},
     "output_type": "execute_result"
    }
   ],
   "source": [
    "df.columns"
   ]
  },
  {
   "cell_type": "code",
   "execution_count": 15,
   "id": "5c5473aa",
   "metadata": {},
   "outputs": [
    {
     "data": {
      "text/plain": [
       "[String, String, Int64, String, String, Float64, String, Int64]"
      ]
     },
     "execution_count": 15,
     "metadata": {},
     "output_type": "execute_result"
    }
   ],
   "source": [
    "df.dtypes"
   ]
  },
  {
   "cell_type": "code",
   "execution_count": 16,
   "id": "a5af3516",
   "metadata": {},
   "outputs": [],
   "source": [
    "df.write_parquet(\"data/standard/imdb_reviews.parquet\")"
   ]
  },
  {
   "cell_type": "code",
   "execution_count": 18,
   "id": "6b147c85",
   "metadata": {},
   "outputs": [
    {
     "data": {
      "application/vnd.microsoft.datawrangler.viewer.v0+json": {
       "columns": [
        {
         "name": "index",
         "rawType": "int64",
         "type": "integer"
        },
        {
         "name": "imdb_id",
         "rawType": "object",
         "type": "string"
        },
        {
         "name": "review_title",
         "rawType": "object",
         "type": "string"
        },
        {
         "name": "review_rating",
         "rawType": "float64",
         "type": "float"
        },
        {
         "name": "review",
         "rawType": "object",
         "type": "string"
        },
        {
         "name": "title",
         "rawType": "object",
         "type": "string"
        },
        {
         "name": "rating",
         "rawType": "float64",
         "type": "float"
        },
        {
         "name": "genre",
         "rawType": "object",
         "type": "string"
        },
        {
         "name": "year",
         "rawType": "int64",
         "type": "integer"
        }
       ],
       "ref": "9648aa8a-3326-4855-a537-5ca20406cb9c",
       "rows": [
        [
         "0",
         "tt0369610",
         "Spielberg Magic, This Is Not. Still, a Visit to Jurassic World Is Worth the Price of Admission.",
         "7.0",
         "You may have heard some critics champion Jurassic World as \"The best Jurassic Park sequel\", some fans declare that it \"brought them back to their childhood\", and others who may have made the absurd claim, \"It's better than the original\". Don't believe the hype. Jurassic World is nowhere close to the best Jurassic Park sequel (Spielberg's own, The Lost World: Jurassic Park, will always have that title). It is not going to bring you back to your childhood, and it doesn't hold a candle to what Steven Spielberg and crew accomplished with the original Jurassic Park. That being said, in a time of dark, self-serious, and pretentious blockbusters such as last year's Dawn of the Planet of the Apes or Christopher Nolan's Dark Knight films, Jurassic World is a refreshing antidote. Light, wholesome, and heavy on adventure, JW harkens back to the big Hollywood \"event\" blockbusters of the 80s and 90s. Let's just not pretend this is anything groundbreaking. The fourth Jurassic Park movie remembers to have fun with its premise, but Spielberg's magic touch is still sorely missed.Jurassic World is the latest film in the Jurassic Park franchise in name only. Call it a sequel, reboot, or re-quel, the fact remains, this is not the same world created by author Michael Crichton and made real by Spielberg and company in 1993. All the major characters from the first three films are gone. Alan Grant, Ellie Satler, Ian Malcolm, and the rest of the appealing and memorable characters of the earlier movies are replaced with broad movie archetypes and superfluous supporting characters. With respect to our new kid characters and Vincent D'Onofrio's bone-headed military grunt, the only two characters worth noting in Jurassic World are Owen Grady, a rugged dino-expert played by bona fide movie star Chris Pratt, and Claire Dearing, an uptight scientist played by Bryce Dallas-Howard. Both are really likable in doses, and the script doesn't subject us to too much of their dopey bantering. While Owen and Claire are cliched, and ultimately uninteresting, as characters, the charm and sheer star power of Pratt and Dallas-Howard are quite enough to bolster JW's brand of disposable summer adventuring.There's a neat little hook to the story of Jurassic World. After a re-branding of sorts, John Hammond's dream is finally realized and Jurassic Park is opened and fully operating. However, when the public begins to lose interest in seeing the same old dinosaurs, the scientists of Jurassic World are prompted to create an all-new hybrid dinosaur called the Indominus Rex. Well, you guessed it, that dinosaur escapes. Okay, so that's a clever solution to the classic Jurassic Park sequel dilemma, \"How does this stuff keep happening?\", but that plot line takes all of twenty minutes to peter into a chase picture, and a simple one at that. The few subplots are banal. Be it, two brothers who come to Jurassic World to spend time with their aunt, or a ridiculous plan to weaponize velociraptors (The latter of those subplots is one of the most embarrassingly stupid ideas I've seen in a movie in years), Jurassic World doesn't have much to get invested in besides big scary monsters running after people.There is one aspect of the film that I love, and that is the design of the Jurassic World Resort. The care that went into perfecting the look of the theme park is a great deal higher than the care that went into the story or the filmmaking. Jurassic World is a living, breathing place, and it is filled with all kinds of minor details that help sell the illusion. The triceratops petting zoo, the hamster ball ride, the souvenir shops, and scores of other theme park related details are touches that I was grateful made it into the film. There are more than a few nice moments where you get to enjoy the park as it was \"intended\". The immersion lasts throughout, even as the prehistoric psycho-killer, and all the destruction that it brings, takes center stage. Once the Indominus Rex gets out, and all Hell breaks loose, director Colin Trevorrow's filmmaking starts to show its deficiencies. Jurassic World is an impressive technical feat. The action is staged well, and the special effects and production designs are incredibly polished. It all looks like a million bucks (or 150 million to be exact), and it's all very fun, but when it comes to the meat of the movie, it's foolish to think that Jurassic World is anything more than Transformers with dinosaurs. In Jurassic Park and The Lost World, Steven Spielberg infused his action scenes with tension and suspense. There was a certain kind of visual poetry to the T-Rex attack in the first movie or the raptors in the grass scene from The Lost World. They were exhilarating because of their selective restraint. Without showing everything, Spielberg made scenes that were subtle and scary, and that exploded to life at just the right moments. Jurassic World's action scenes are big, loud, and entertaining, but it's all chaos, no technique. Trevorrow throws the kitchen sink into every shot. The Indominus Rex chomps up dozens of machine gun toting mercenaries, pterodactyls dart all over the screen pecking and biting everything in sight, and big, lumbering CGI beasts fight each other and destroy every last peanut brittle building around them. Sound familiar? It's the kind of Call of Duty-esque sensory bombardment that can be loads of fun to watch while you're there but doesn't leave the lasting impact of truly great action.So it is with Jurassic World. The movie is big, bright, and fun, with lots of action and good special effects. It pleases crowds. But as with most big budget crowd pleasers, it comes with dull characters, brain dead plotting and booming CGI overload. Jurassic World left me with the exact same feeling I got after seeing Jurassic Park 3. Both movies are serviceable summer romps, full of dino-action and great visual effects, but there is simply a noticeable dip in the quality of the production. Jurassic World successfully mines from the franchise name a good B-caliber FX spectacular. For dumb summer fun, it works. But there was a time when Jurassic Park aspired to more than dumb summer fun. Steven Spielberg's first two movies had class. They grappled with ideas, they were intelligent, they showcased real filmmaking, and they were genuinely thrilling. Jurassic World is colorful and entertaining, but let's be clear, when it's all said and done, nothing beats Spielberg. 74/100",
         "Jurassic World",
         "6.9",
         "Action, Adventure, Sci-Fi",
         "2015"
        ],
        [
         "1",
         "tt0369610",
         "Not a patch on the original Jurassic Park, and is an uneven film, but by far the best of the sequels",
         "7.0",
         "The original Jurassic Park still is a personal favourite, it is an enormously fun, thrilling (with some nail-biting moments) and brilliantly made film, with one of John Williams' most memorable main themes and scene-stealing dinosaurs. The Lost World has its admirers, but for me it was a major step-down and one of Spielberg's weakest films, and Jurassic Park 3 was even more disappointing.Jurassic World is not a patch on the first Jurassic Park and I didn't quite find it the return to form that it has been touted as, but for all its faults and uneven parts it is a massive improvements on the previous two sequels and is an entertaining film in its own right that does more right than it does wrong.First things off, Jurassic World is an incredibly well-made film, it's beautifully shot with scenery that's both colourful and atmospheric and the dinosaurs look wonderful. The dinosaurs also steal the film, not just their designs but also that they're lots of fun and are scary, their scenes are great to watch and there could have been even more than there were. This is especially true with the Indominus Rex, who is chillingly bloodthirsty, when she is stalking her prey it's enough to be glued to one's seat and then jump out of it. Michael Giacchino's music score is positively stirring, and even includes themes from Williams' score for Jurassic Park, which was just a lovely homage and fits within the rest of the scoring beautifully.The film's homages are most enjoyable and give the film a nostalgic quality, some of it is savvy and funny and while not as much as the original there's still a good of thrills and scares to be had. The latter half is often very exciting, the film is efficiently directed, doing nicely in maintaining the tension, and the acting is good (though one does wish that the characters were written better). Chris Pratt has a likable and warm presence, as well as a nice wit, and Bryce Dallas Howard is similarly good even with the most problematically written character. Vincent D'Onofrio makes a real effort making his somewhat one-note and underused character more interesting than he deserves to be and does bring some intensity.However, Jurassic World does contain some large problems. Not all the acting works, Judy Greer for my tastes was annoying in places and the children's acting was often too forced and their back story goes nowhere. The script and story are uneven, with the script it has its moments but it can be a bit muddled, as a result of trying to do too much at times, some of the dialogue is very weak and can induce cringes and some of the reversals are really out of place. It also could have done a much better developing the characters, because they felt very underdeveloped and clichéd, especially Claire, and any character arcs come off clumsily or aren't explored enough, particularly for the children. Owen and Claire's romance can slow the film down and does contain some forced dialogue. The story is at least never really dull, and excites more than it limps, but at the same time it does lack the wonder, consistent suspense, smartness and originality that Jurassic Park had. It does feel like a too predictable rehash at times, does feel muddled tonally, the exposition in the first half hour does go on for far too long and doesn't really say anything interesting and the ending is too silly and anti-climactic for my tastes.All in all, uneven and not on the same level as the original Jurassic Park, but a very entertaining well made film and by far the best of the sequels. 6.5/10 Bethany Cox",
         "Jurassic World",
         "6.9",
         "Action, Adventure, Sci-Fi",
         "2015"
        ],
        [
         "2",
         "tt0369610",
         "Its a Jurassic World after all.",
         "7.0",
         "The 4th film in the Jurassic Park series and the second sequel that Steven Spielberg did not direct starts off well enough with enough call backs to the first film of the series but quickly turns into a monster movie with a run away super killer dinosaur that was spliced by the DNA of other prehistoric creatures for the sake of selling extra tickets. If my description of the plot Is pretty simplistic,it's because the story is that simple. So forget the dangers of science morality tales that both \"Jurassic Park\" and \"The Lost World\" gave to it's stories and just accept that the series has become a standard creature feature that just swaps out it's main monster for every new installment. The last film in the series \"Jurassic Park 3\" pretty much threw away the whole plot lines of the first two films just to give us a chase film with a dinosaur that was never even seen in \"The Lost World\" and that film was set on the same island. While \"Jurassic Park 3\" just went on a painful 90 minutes long montage of talking raptors, horrible scenes of family bonding and an visible annoyed Sam Neill looking like he's about to go postal on the people working on the film set, Jurassic World manages to be a hell of a lot more enjoyable experience for the viewer in terms of just trying to inject a sense of plot and continuity to this other wise creature feature.As a standard creature feature, the movie works well and gives you your money's worth of dinosaurs doing collateral damage to property and personnel with the occasional park visitor being killed for good measure. Throw in your slack jaw good guy ( Chris Pratt) who feels that the creatures are misunderstood and works with good guy dinosaurs(I Kidd you not) to help stop the super killer dinosaur. Throw in an human adversary for our hero to fight with ( Vincent D\"Onofrio) who would blow the whole island up to get this monster and add an human element like two lost children who are related to a employee at this crazy theme park who by the way has the hots for our hero and you have the entire story right there.It's hard enough to keep a franchise going, especially when you're dealing with dinosaurs walking the earth. You will eventually hit a wall in terms of storytelling if your primary goal is to keep turning these films out with out any care what so ever. We saw that with \"Jurassic Park 3\" where all the plot points from the previous two films were abandon for a B Movie creature feature. \"Jurassic World\" tries hard to correct that by having the movie be about something a little more and try to connect itself to the first film of the series. And Its much better film for it but it still ends up a creature feature all the same.",
         "Jurassic World",
         "6.9",
         "Action, Adventure, Sci-Fi",
         "2015"
        ],
        [
         "3",
         "tt0369610",
         "Worthy Sequel To One Of The Greatest Films Ever Made",
         null,
         "Let's start this by stating how much of a die hard fan I am of 'Jurassic Park', I love that film, always have, always will. 'The Lost World' is a worthy followup, but at the same time lost the panache the first one had, as for the third entry, I'll overlook it because it just got too silly for my liking... anyway, on to 'Jurassic World'. First of all, the positives outweigh the negatives by far, so to start I shall begin with the flaws. 'Jurassic World' near enough scraps the use of animatronics that made the original films so realistic in comparison and instead overuses CGI, but that aside the visual effects are stunning. And the story, well, it's a little too far-fetched to say the least, but not to the point where it's completely ridiculous, just enough for you to have a laugh but still enjoy it nonetheless. Trevorrow's direction, Pratt's acting and Giacchino's score are all superb, and these combined make the film a worthy watch. The film perfectly blends drama, emotion and action, and when I say action, I mean full-on awe- inspiring action. The closing battle is just rife with intensity, to the extent that I was literally sitting on the edge of my seat in the cinema, it was perfectly choreographed (if maybe a tad predictable) but my heart was racing, I hadn't felt that excited with a film's conclusion for a long time. All-in-all, it's a well- executed and beautifully-crafted sequel, but will never outdo the original, the best 'Jurassic Park', but a second spot grab? I think so.",
         "Jurassic World",
         "6.9",
         "Action, Adventure, Sci-Fi",
         "2015"
        ],
        [
         "4",
         "tt0369610",
         "Manages to somewhat return the Jurassic Park series to it's former glory, but its still a few notches below Spielberg's first two entries in the series.",
         "6.0",
         "Modernized and polished entry to the Jurassic Park series picks up 22 years after the original Steven Spielberg SyFy thriller with a fully functional prehistoric amusement park that is trying to pick up their attendance numbers by splicing the DNA of their animals in order to create a new attraction to bring in more customers. With this, they manage to create a dinosaur that is much bigger that the signature T-Rex but also much more aggressive, much smarter and much more territorial as well. So of course it does not take much time for this thing to break out of it's habitat to cause death and destruction in it's wake. It's then up to park consultant Owen Grady (Chris Pratt) and company to stop this mega dinosaur from killing everyone on the island.While the set up is predictable as well as it's outcome, the movie still provides a fun two hours of distraction. The problem is however is that outside of Chris Pratt, whose playing an intelligent variation of his swagger character from \" Guardians\" No one in this movie is very interesting or likable with the slight exception of Vincent D'Onofrio, who can read a phone book and make it interesting. The script is cringe worthy in a lot of places and while technology has come very far from the original, good storytelling is far and few between. \"Jurassic World\" still does manage to offer a lot of scary moments of sheer terror and does provide some comic relief, which is a huge step up from the last movie of the series(Jurassic Park 3)but does not have the genuine spectacle and heart that drove Steven Spielberg's first two movies in the series (The original Jurassic Park and The Lost World : Jurassic Park).All and all, it's a decent ride that somewhat redeems the Jurassic Park series but they need shoot higher next time other than just be a decent follow up.",
         "Jurassic World",
         "6.9",
         "Action, Adventure, Sci-Fi",
         "2015"
        ],
        [
         "5",
         "tt0369610",
         "Very good but more a remake of the first two movies than a sequel to the series.",
         "7.0",
         "Like it's dinosaur Frankenstein creation, Jurassic World is itself a  hybrid of sorts. A bright and vibrant opening that reminds the viewer  of the first time they saw the original Jurassic Park, with a voice  over by the late Richard Attenborough in introducing the park visitors  and the audience of the wonders of the first dinosaur amusement park.  Sort of a tribute to what the first movie was about and the realization  of it coming true. Then the mayhem begins and the viewer will remember  the words of Professor Ian Malcolm from the first sequel \"The Lost  World\": \"Oh, yeah. Oooh, ahhh, that's how it always starts. Then later  there's running and um, screaming.\" That's what happens after the slow  introduction of the characters and story points of \"Jurassic World\".  What good about this film that it's a slow burn, like the first  Jurassic movie, then it kicks like a mule with the scares and adrenalin  of \"The Lost World\" when the park's new attraction starts eating the  tourist and it's fellow attractions. While having both Steven  Spielberg's original two films as inspiration is a good way to create a  Jurassic sequel, it's not original. Don't get me wrong, its very good  for what it was and Chris Pratt earns his stripes as a leading man but  takes too much from both \"Jurassic Park\" and \"The Lost World\" and just  regurgitating scenes here and there to be taken seriously as a sequel.  Plus it goes into overdrive with the scary,intelligent predator hybrid  dinosaur, which comes across more like \"Predator\" than a Jurassic Park  movie. This dinosaur hybrid kills for sport, not hunger or necessary  and that pushes the boundaries of what the Jurassic Park series was  about. Yes, they are wild animals but this film plays them up as good  guys and bad guys then the out of its time species that did not belong  into human society. With all of that out of my system, i will admit  that i did have a good time watching \"Jurassic World\" and jumped quite  a few times during a few scenes. A few inconsistencies a side, i  enjoying it as what it was. While there are obvious links to \"Jurassic  Park\" not to mention the fact that they are back to the original place  of the first film, i just did not feel like it was sequel to the  Jurassic Park series. More a reboot/remake of the first two movies but  it could have been much worse (Jurassic Park 3 anyone?).  3 Stars. Don't expect anything original but do expect to have a good  time none the less.",
         "Jurassic World",
         "6.9",
         "Action, Adventure, Sci-Fi",
         "2015"
        ],
        [
         "6",
         "tt0369610",
         "The good news: It's vast improvement over Jurassic Park 3. The bad news: it's the most predictable entry in the series",
         "6.0",
         "Fine but predictable return to form for the Jurassic Park series finds John Hammond's dream for a \"Jurassic Park\" becoming a reality. However, in a way to have more people come back to the island, scientist's create a hybrid dinosaur as a new attraction. But, like every Jurassic Park film in the series, things don't go off as planed and all hell breaks loose in it's aftermath. Unlike the last 3 movies however, this film is made up of mostly new characters to hold off the Dinosaurs with the exception of a small side character from the Original Jurassic Park film played by BD Wong, who to be quite honest is only there to somehow fulfill continuity from The first film to the new one. It would have made more sense to bring in some of the original leads to bridge the whole series together but that seems to be asking too much. The new characters starting with lead Chris Pratt are fine but underwritten and cliché. Pratt's character and performance is really the only bright spot of the new cast of characters but he lacks the cool sarcastic wit and intelligence of Jeff Goldblum's Ian Malcolm and The everyman appeal of Sam Neill's Dr Alan Grant. Pratt however brings his own warm, comic sensibility that does make him endearing in his own right but unlike Goldblum and Neill who brought dramatic tension to the films, Pratt gets overshadowed by the dinosaurs once the bloody carnage begins. Bryce Dallas Howard is decent but unremarkable in the uptight corporate woman with no life role and Vincent D'Onofrio is OK as the resident head of security of the park. Of course, there are two kids who plays the nephews of Howard's character who are put in the middle of the action one it begins, leading to a predictable climax that while is full of thrills, could have been seen a mile a away.The Dinosaur effects in this film are probably the best in the series so far and while there are moments of Obvious CGI, it really does not distract from how far effects have come over the years from the first film to this one. In terms of dino carnage, this film comes in a little behind The Lost World in that department but not by much. The body count is higher here than in any of the other films in the series but lacks the tension and showmanship that Jurassic Park and The Lost World had in spades. It's however head shoulders above what Jurassic Park 3 had in those departments. Not to mention the fact that while the script for Jurassic World is fairly predictable, it does not overstay it's welcome. Unlike the underwritten Jurassic Park 3 with its very unlikeable characters.Jurassic World is a fine addition to the Jurassic Park series. While its pretty predicable and not as good or as tension filled as the first two films of the series, it's a vast improvement over the disappointing 3rd film. However, if there should be a fifth film, they need to go beyond the new monster of the week and come up with a better script to justify this series continuing for another film.",
         "Jurassic World",
         "6.9",
         "Action, Adventure, Sci-Fi",
         "2015"
        ],
        [
         "7",
         "tt0369610",
         "If you're looking to sit on the edge of your seat for two hours, welcome!",
         "10.0",
         "First of all I think people need to understand that film is a lot like music, you can't listen to a new Justin Bieber song and complain because it's not a Mozart masterpiece. And you definitely can't watch Jurassic World expecting a mind-boggling, emotional Inception type film. I would put Jurassic World in the same category as most Michael Bay films, the story line won't make you think, the characters won't go through any psychological changes but you will be thoroughly entertained by the special effects. I think it's fairly obvious throughout the original trilogy and this film that we are the visitors to the attractions, Steven Spielberg gave the parallel Earth a new unimaginable attraction, one which surprised the audience so much, it's rated as one of the best films ever. Period. Fast forward twenty two years past the films of Interstellar, Lord of the Rings and Harry Potter, we as a human race have seen a lot of original, unique things, a plain old dinosaur film will not bring us the same thrills as it did in 1993. Therefore we are once again, the visitors to the attraction. We will never feel the same buzz as first seeing that T-Rex crashing the gates over, or the same chill down the neck when first hearing that Raptor shriek. However, we can still be entertained. Which is what happens throughout the film. The characters are fairly bland, there are only a couple likable ones, but they all seem to grow on you near the end, the bloodbath that is left by the new Dino is quite emotional and gives you a side to pick fairly easily, the surprises throughout the film keep it exciting and the special effects, well we are in 2015 and they did have a lot of money to spend so lets just say they are incredible as expected. If you're looking to be on the edge of your seat for two hours and trust the film to not bore you, then you have nothing to worry about, the line graph representing excitement just climbs up and up, if you're expecting another Shawshank Redemption, well please don't slate the film when it doesn't satisfy your needs. I think that films should have two ratings, one for overall, and another for it's main sub-category, for example as an overall film I'd give it a 7.5-8, it's sub-category of excitement I'd give a solid 10, a comparison to the first Transformers which I'd give an 8 for excitement and a 5 overall. Therefore I really do recommend this film for anyone who like me, enjoys special effects, good excitement and two hours to just sit on the edge of my seat and thoroughly enjoy my time. I can only say I can't wait for the second one and I'm sure you will too after you watch it.",
         "Jurassic World",
         "6.9",
         "Action, Adventure, Sci-Fi",
         "2015"
        ],
        [
         "8",
         "tt0369610",
         "Smart Dinosaur, Dumb Writers",
         "6.0",
         "Overall, this wasn't a dull film. It was full of action and very absorbing. It just wasn't a very intelligent film. The writers took shortcuts to move the plot in the direction they wanted, and most of the characters fluctuate from utter moron to complete genius throughout the film.The acting was relatively dull, with the exception of Chris Pratt who played a character he's played over and over again. Most everyone else was uttering cringe-worthy dialogue throughout the film.The story is cliché, uninteresting, and full of moronic plot holes. The idea to turn the raptors into tamable teddy-bear creatures was a terrible decision that turned potentially horrific moments into a waste of time. Couple that with a worse deus ex machina moment than the first film, and you have a veritable mess on your hands.The most damning part of this film was the fact that the writers spent 14 years developing a story with a dinosaur written to be smarter than the writers themselves. Indominus possesses all the wit and clever thinking that could have been used to write a terrific screenplay. Next time, write a smarter story with a dumber dinosaur.",
         "Jurassic World",
         "6.9",
         "Action, Adventure, Sci-Fi",
         "2015"
        ],
        [
         "9",
         "tt0369610",
         "The Nostalgia is real",
         "10.0",
         "Jurassic world is the #1 movie in America. This movie deserves the right to be called back especially with all the money it earned especially in the first week it was out. It's been 14 years since the last time I saw Jurassic Park. I never would have thought that they would be making a Fourth one and when I heard they were making a new one I was ecstatic. It brought back all the memories of the first 3 films. When the day came for Jurassic World to open it had to go see it on opening day and I did. The movie gave us the same feeling Jurassic Park 1 did \"Welcome to Jurassic World\". The new park looked amazing showing that John Hammond'so dream finally came true. The music was more amazing than ever, the original Jurassic Park theme was re-prised to show how much thing had changed in 14 years. The main attraction of this movie was the Indominus Rex and hybrid of T-Rex, Raptor, cuddle fish, and Tree frog and terrifying intelligence. At the end of the movie we get to see the original T-Rex from the first movie roar for the last time after the park was closed for good. This movie brought back so many memories for so many people. I can't wait for the next one.",
         "Jurassic World",
         "6.9",
         "Action, Adventure, Sci-Fi",
         "2015"
        ],
        [
         "10",
         "tt0369610",
         "Better Than Jurassic Park 3, But Totally Predictable",
         "6.0",
         "**spoilers ahead.** I am a great fan of Jurassic Park. I loved it when I watched it in 90s but it was a new concept back then. It had a great story and some of the best visuals at that time. It was not completely predictable and it was fun.Fast forward 22 years and we have \"Jurassic world\". The story picks up after 22 years of Jurassic Park. I am not going into the details of the plot, but it is almost similar to the original Jurassic Park. We have a park where people can come and see the genetically modified dinosaurs. One of them escapes and goes berserk. Now Chris Pratt has to stop him from causing more destruction. So there is nothing new in terms of story.It is similar to some of the other movies that we have already seen.The CGI looks really good but these days even a low budget film has some really nice graphics work. But if you are a fan of 3D, you will have some fun as it has got some really scary scenes and the effects are amazing.It is predictable yet enjoyable. Chris Prett does a great job. In fact, he is the only person in the movie who is likable. I did not care about other characters.Now let's talk about the negatives. There are so many things that are wrong with this film. But I have made a list of the things that don't make sense. I am not going to talk about the technical things because everything is good except for the BGM. 1- Who enters a dinosaur's territory without knowing where the Dinosaur is? they could have tracked him before entering the cage, just to be sure. and Did I mention that we are talking about a genetically modified dinosaur with the IQ of Einstein?2- The character played by Judy Greer and Bryce are so annoying. Judy starts crying for a stupid reason ( because her sister didn't accompany the children, she works in Jurassic World, she has a lot of work to do.)3 - Bryce does not know what logic means. There are moments where she shows her STUPIDITY. (Like - \"screaming\" even though she knows that the dinosaur could hear her voice.)4 - The kids are the most stupid ones I have ever seen. I mean you are in Jurassic World. If there is an emergency then it must be something important. Get the hell out of there. But no, we have to see everything.5- Who the hell designed this stupid spherical vehicle that the kids used? Dinosaurs could have easily destroyed it, One swing of their tail and it would China. who wants to travel in such a vehicle?6- Chris Pratt and Bryce go out to find the children and their defense is - A GUN. What? Are you going to kill that Dinosaur with a GUN?7- Chris and Bryce see some dead or soon-to-be- dead dinosaurs so they make sure that they waste a lot of time with them albeit they have to save the children and time is running fast.8- Chris goes out to kill the dinosaur with a team, but only one of them has a Bazooka. Then they wait for the Dinosaur to have some giggles with the small dinosaurs. They could have brought 5-6 Bazookas with them and launch them at the same time. We saw what 1 Bazooka did to him. 5-6 could have easily killed him or at least crippled him.9- What the hell is the deal with those 4 dinosaurs who keep changing sides?10- I honestly could not understand what Chris Pratt's role was? He did not do anything in the whole movie except for running. He was useful at only one place - The climax. He somehow hypnotizes the small dinosaurs, but even that doesn't do anything.11- The Dues ex machina Ending. (A big Dinosaur saves the day). Maybe I am nitpicking but these are the examples of sloppy writing. You must avoid such things. Some scenes reminded me of Avatar and the climax reminded me of Godzilla.Overall it is a nice movie to pass your time but it is not a must watch. It does not get anywhere near to the level of Spielberg's original Jurassic Park. but yeah, It is a great improvement over Jurassic Park 3 which was a complete mess.",
         "Jurassic World",
         "6.9",
         "Action, Adventure, Sci-Fi",
         "2015"
        ],
        [
         "11",
         "tt0369610",
         "A nod to the original and even more",
         "9.0",
         "As a young boy, dinosaurs were the greatest thing on earth (well, the greatest thing that once WAS on earth) for me. I knew most of their names (like Gray in JW) and had my plastic dinosaurs fighting themselves, evil, and sometimes also good. You can imagine my excitement when I first saw Jurassic Park and I was truly blown away by the idea. I still somehow wish that I could actually experience the events in the movie, although I understand the critic that the author of the novel, Michael Crichton, wanted to express. Much of that critic is lost in the third sequel to the original movie, 22 years after its original release, at least it's hidden very deep in the plot. The scientists have created a new super- species, filled the missing pieces of DNA up with genes of amphibians that all have certain survival-powers, and it all goes terribly wrong, much because the dinosaurs are being underestimated as they always were. So is it a reboot of the first movie? At least a bit. They are referring to the first movie all the time, examples: A control guy wearing an Jurassic Park shirt proudly says he got an original shirt (shown in part 1 several times) for $150 from eBay, they run through degenerated original buildings and one time the kids even drive an original van that they repaired competently. New park-owner Masrani says that John Hammond told him on his death bed to \"spare no expense\", which was one of the funniest scenes in the movie, yet Masrani doesn't want to commercialize the park too much. That's where the movie starts being perfectly self-ironic: one control guy (the one with the classic shirt) jokingly suggests, in order to please the investors, to name newly bred species after companies, \"so how about Pepsi-Saurus\"? The movie indeed is full of product placements, I counted at least 9 brands and logos that are shown or mentioned during the film. So what is the purpose of the movie? Mainly, I guess, it's meant as a nostalgic, yet up-to-date experience/excuse for all those fans who were bitterly disappointed by the Parts II&III. It's exciting, contains a little love story, it's got wit, social criticism and excellently animated dinosaurs. It shows that 22 years after Jurassic Park, movie heroes are still being chauvinist and women are still stronger and braver as they are pictured in most (other) movies. And, finally, it fulfills every fans biggest desire: man and dinosaur, at last fighting side by side. That's probably why I'd give it an even better rating than the original Jurassic Park movie, although of course classic scenes like the shaking water glass will probably never be outperformed. Résumé: Director Colin Trevorrow manages to create an enthralling and visually stunning homage to the original which at some points brilliantly steps out of the shadow of its role model and finally puts the conciliatory end to the dinosaur universe that we, the fans, truly deserved.",
         "Jurassic World",
         "6.9",
         "Action, Adventure, Sci-Fi",
         "2015"
        ],
        [
         "12",
         "tt0369610",
         "Jurassic World complete with equally ancient clichés!",
         "7.0",
         "So, I liked this movie, but boy is it full of clichés and stereotypes. My partner and I found ourselves calling out every character, what they would end up doing within moments of being introduced to them.Seriously, there is an entire butcher's-worth of ham-fistedness in the approach to character intro's and scene building here. You'll know what will happen long in advance of it actually happening on screen.What this does is make the movie utterly predictable and, in essence, boring. At your first viewing, you will feel like you have seen it before.It also says something about a film featuring dinosaurs that it is at its best when they aren't on screen. I don't know how this came about, but, for the most part, the dino's are a little dull and uninteresting. They plod, they run, they roar, and all in glorious CGI. Yet they fail to evoke the same emotions that they did in JP1 or even 2.That's not to say the human actors are a lot better, but at least they have some thin characterisation applied to them, even if it is in the form of horrible stereotyping.I mean, military guy who is bent on weaponizing the dinos, distant aunt who has no skill with children (bet you can't guess where her story-arc evolves to?) What? Oh yeah, that's right... she does discover her nurturing instincts. Wow! You're better at this than the writers!Don't get me wrong. It is a solid popcorn flick. But the lazy writing does it tremendous harm. I swear they have some sort of software in Hollywood that churns this stuff out. There are no surprises here. None.Acting and Effects are capable. No one really stinks and there aren't that many obvious CGI moments (in so much as we know it is all CGI anyway, nothing shows itself about the perceptual parapet, as it were).It is a decent watch, but expecting the expected is no longer fun when taken to this extreme.SUMMARY: Formulaic and totally predictable. Nothing to write home about. See it, and then move on.",
         "Jurassic World",
         "6.9",
         "Action, Adventure, Sci-Fi",
         "2015"
        ],
        [
         "13",
         "tt0369610",
         "The franchise has had a lobotomy",
         "4.0",
         "Dinosaurs. Amusement Park. Tourists. Disaster.Jurassic World has them all.Naturally, I had to see it.The beginning holds much promise, and it gets your hopes up for the disaster to come. When it does, there are some great action sequences, especially ones with the glass ball containing the soft, chewy child centre.Unfortunately the final act unravels into outright farce.Chris Pratt is great as the affable yet bad-ass Raptor Whisperer. He's got an easy going charisma that could easily carry an iconic character like Indiana Jones.Bryce Dallas Howard plays Claire Dearing, the uptight park manager, who initially clashes with the laid back Owen. Of course you know where the tension goes.The film tries to flesh out Claire's character by throwing in her two nephews (someone and another kid), who do double duty as McGuffins.Vincent D'Onofrio shows up as Hoskins, a villainous representative of the military-industrial complex angling to weaponize velociraptors. He's all sneers and scenery chewing, so obviously evil he's got a goatee. D'Onofrio does it well but the evil plan he's been saddled with by the writers makes no sense at all.The director, Colin Trevorrow, said in interviews that he wanted the dinosaurs to act like real animals, not cartoon monsters. Quelle surprise! I had no idea, as he has well-fed winged dinos (or near enough to dinos) go on a crazed orgy of violence against hapless tourists. Why? Because cool action sequence!One poor soul is even treated to the most outlandishly elongated death sequence I've ever seen, all to no end. It didn't justify anything, paid nothing back, offered no comeuppance. It was just gleeful indulgence in sadistic torture of a minor character. It was an Itchy & Scratchy moment.Which brings us to the final act: turn off your brain before it begins.The first movie proved you could have a smart script and dinosaurs in the same movie. After that, the IQ of the series dropped with each outing. The first one had chaos theory and amber and DNA extraction and cleverness up the whazoo. It was AWESOME.What does this one have? Hackneyed evil plans, a clunky plot, and characters so smart they run from T-Rex's in high heels.The franchise has had a lobotomy.",
         "Jurassic World",
         "6.9",
         "Action, Adventure, Sci-Fi",
         "2015"
        ],
        [
         "14",
         "tt0369610",
         "Could have been worse...definitely better than 3",
         "6.0",
         "First, I am the biggest Michael Crichton fan. I have read nearly everything he has ever written. So, the bad comes first - 1. Some of the characters (dinos included) did not fit the mold for his writing. While I found them likable, I also found them detestable as a \"Crichton snob.\"2. I felt like there was too much in the way of homages. A few subtle nods would have been sufficient, imo. Other minor things like overall story development, and a few other directorial issues aren't worth dwelling on in light of a 2 hour and 10 minutes run time.The good - 1. Chris Pratt was excellent. I'm quickly becoming a fan, and hope he can develop his skills a bit more for future roles. As my wife pointed out, he'd make a great fit for an indiana Jones reboot if the time comes.2. The dinos were awesome. Even the new ones, as far-fetched as they seem. In this regard, the writing was right in line with Crichton. He loved to stretch the science to the very edge of being illogical, if not impossible.3. Did I mention ALL of the homages? Many casual viewers will miss most of them. My 11 year old got a bunch but not all of them. From that standpoint, I like being able to see some of the more subtle connections, and rides down memory lane are generally enjoyable.Conclusion - Overall, I felt like it was worth the matinée admission of 7.50. I wouldn't have wanted to pay 10, but others may disagree. Solid action film....3.5 stars.",
         "Jurassic World",
         "6.9",
         "Action, Adventure, Sci-Fi",
         "2015"
        ],
        [
         "15",
         "tt0369610",
         "Great first half, but script fell apart",
         "6.0",
         "What a shame. This movie could have been so much better! I was completely enthralled during the first 45 min or so, and it was as if I was visiting the Park myself. The cinematography was beautiful, the attractions were innovative and the park was filled with so many extras, that it felt like a real place. There was a lot of interesting man vs. nature debate in the script as well as tidbits on the danger of technological progress. I applauded the writers at first. There were even some pretty decent character arcs but unfortunately, they never fully developed.When the action started to pick up, things went sour really fast. If this film had maintained its serious tone, I may have scored it in the 8's or even 9's. But sadly, the director chose to include bits of cheesy comedic lines in moments of urgency, completely ruining the thrill. I cared nothing for the characters, because, it seemed as if the characters took the threats they came across a bit too lightly for my tastes, so much so, that it completely nullified Bryce Dallas Howard's excellent performance. But hey, at least the action was better than expected and so was the CGI. I was skeptical at the fact that there were so few robotics used in this film, but it didn't matter. The CGI was that realistic. I still can't say it saved this film. I yawned a lot in the end, despite the pretty cool plot twist. This film should have been a horror film like the first 2 installments, but it chose to be a movie aimed at teens. What else is new these days with blockbuster films right? 6/10",
         "Jurassic World",
         "6.9",
         "Action, Adventure, Sci-Fi",
         "2015"
        ],
        [
         "16",
         "tt0369610",
         "Underwhelming, Predictable; Yet better than Jurassic Park 3",
         "6.0",
         "Make no mistake this movie isn't bad. The movie does have great CGI and really amazing action sequences. Great atmosphere at times especially before the carnage unleashed by the I-Rex.But it lacked a good plot, almost little to no character development; has a very predictable story-line, and the dialogues too fell flat at times.***Spoiler*** Personally, what had disappointed me most was: 1. the changing of allegiances at the flip of a switch by the raptors. They change sides 4 times in a 24 hr time-span! (anti-human, pro human hunting the I-Rex, with the I-Rex n anti human, with Pratt n anti I-Rex). Really?! Even politicians don't flip-flop so much so quickly! 2. The ending, it could have been much more intelligent rather than having a tag-team or a handicap match between dinosaurs who just 'bid goodbye' after beating their foe. Seriously!! The T-Rex and \"Blue\" the raptor nod in acknowledgement and part ways after beating the I-Rex (special thanks to the Mosasaur). Surely they could have come up with something better! Even the exchange between Pratt n \"Blue\" at the end, what was that about?!. To me the ending felt like a Spaghetti Western- esque parting of ways by the remaining anti-heroes after a Mexican Standoff, but in this case you had two dinos and a human. The whole thing is so Absurd !!!! *********More of a 'rinse-repeat' of the first one, just with a different setting, a different antagonist (the I-Rex) and some really good action sequences. It will keep you entertained but at the same time will make you feel like something is missing.Better than Jurassic Park 3. Nowhere near the quality of the first one in the franchise: Jurassic Park.",
         "Jurassic World",
         "6.9",
         "Action, Adventure, Sci-Fi",
         "2015"
        ],
        [
         "17",
         "tt0369610",
         "Brilliant",
         "8.0",
         "I am a huge fan of the Jurassic Park franchise, it's my favorite franchise, my life revolves around it and dinosaurs. I was very nervous for Jurassic World, because it had been so so long since we've seen them back on Isla Nublar (22 years to be exact). This made me go into the film as a mainstream film fan, so I could really tell if this was a good film or not, without being bias. I was amazed by how much this film makes you feel like a kid again, it has the exact amount of nostalgia to please the fans of the franchise and enough new material to appeal to a younger audience who maybe haven't seen the first three films.First of all, the cast which this film possess is used to great effect, with the most notable being Chris Pratt, his character Owen Grady is the perfect blend of Alan Grant and Ian Malcolm, making him likable and very quirky in how he behaves around his Velociraptors and people in general. Bryce Dallas Howard's character breaks the conventions of a female character in a film of this genre, she takes control of situations and you feel that she isn't a girl to run away from danger...apart from running away from the Indominous Rex, which I don't blame anyone for doing so. The supporting characters in the film also help it to come alive and make you think this is a real park with real lives at risk, especially Vincent D'Onfario in his role, he plays it magnificently and you can feel his tension yourself and finally Nick Robinson and Ty Simpkins as the kids in peril aren't as annoying as Kelly in the lost world, so that's an improvement to take note for.When the first trailer for Jurassic World was released, way back at the end of November 2014, people were starting to get very worried about the effects in this film and how they will improve from the first film, the same with the use of animatronics in this film. Well my friends and fellow fans, the CGI in this film are brilliant to look at, even though some scenes you can tell it is from a computer scene, the rest you couldn't tell the difference, they used the animatronics in scenes where they were necessary which has a lot of sentimental value for the film which was a nice touch. Most people thought in this film the Tyrannosaurus would play a minor role like it did in Jurassic Park 3, but the way they utilize the old girl is brilliant, she is amazing to look at and she even has the scars form the fight with the raptors from the first film, you cannot make the T-Rex have a small role in this film, especially when she's the poster girl for this magnificent franchise. It will be hard to make Jurassic World 2 better than this one, but here is to hoping!",
         "Jurassic World",
         "6.9",
         "Action, Adventure, Sci-Fi",
         "2015"
        ],
        [
         "18",
         "tt0369610",
         "Clumsy money grabber is saved only by the great special effects",
         "6.0",
         "This is a film for families, like all Jurassic movies so far, so they have to use a pseudo-family unit as the main character. They also have to tell you how to feel at every moment with blunt soundtrack bits that leave nothing to the imagination. The evil corporation, the arrogant rich man, the uncaring secretary and the opportunist need all be punished for their sins. Not so the sexy redhead who got everybody killed in the first place or the annoying children who do whatever they feel like it while a killer dino is on the loose . God, not the children!This sums up the plot of the film. There is absolutely no recipe for a quick buck that was not used in the movie and the rest, which is just as formulaic, is just special effects and a weird hybrid (see what I did there?) between Jurassic Park and Godzilla. Say what you will about Spielberg, the man knew subtlety.Points for not killing the black person first. They went with the Asian.",
         "Jurassic World",
         "6.9",
         "Action, Adventure, Sci-Fi",
         "2015"
        ],
        [
         "19",
         "tt0369610",
         "Great  3D movie",
         "10.0",
         "This film combines the stories taken from king Kong and The lost world,25 version.Bryce Dallas Howard Plays a Bitchy corporate executive ,who can't get with her nephews on Christmas holidays ,played by TY Simpkins and Nick Robinson, that her sister has sent them for visit,played by Judy Greer.Bryce works for a huge corporate amusement park that focuses on dinosaurs.Bryce can't make time for her nephews,so they wonder on their own.She a a troubled working and personal relationships with a dinosaur trainer and activist play by new movie star Chris Prat.Though owner and designer of the a park Irrfan Kahn ,who is more concerned about people having fun than how much profit has increased.Chris has a problem working relationship with Vincent.Vincent believes that the dinosaurs should focus on killing each other ,but, Chris believes they should be trained for peace.Well, there is one dinosaur that was create artificially ,for a new part of the park ,to be open soon.I call him T.Rex Kong. A problem arises he not following instructions and eats another dinosaur .All hell breaks loose when he jumps the wall and terrorizes the customers the customer of the park making a nice meal out of some of the worker and security guards .The dinosaurs were so realistic and were digitally created . Earlier Jurissic Park had used some puppets .The movie is made in style of an amusement park .It seems that the character development is shorter for the sake of the action.In some out takes that was shown ,flat, indicated that may be some of the shots should have been kept of the character development.It was not even.Did you see the little old fashion camera that the smaller nephew was carrying?could indicate Hollywood dislike towards home digital cameras?Chis originally did a you tube joke about him getting a job in Spielberg's next Jurassic movie .I think it was you tube.His dreams came true. Another problem was that the characters and the whole atmosphere of the movies and sets were cold and stoic.Even the kissing scene was cold and the family reunion scene,which Claire's sisters husband was played by Andy Buckley, was also not warm..E.T ,Poltergeists and Star Wars was far more Warmer.What's the problem?I am afraid it's a real world currently problems in general.Hollywood has always pretentiously serve the establishment ,for profit,then claims they serve the masses.This movie reflects our phony liberal side of big business and the wealthy running our government and exploiting the animal rights and environmentalist ,who are desperate for a quick answer to protect animals and the environment as well a s fanatics and those who have a contempt against the human race ,due to constant warmongering ,for profit and political power.This reflects pitting animals and the environment against humans ,very subtle, in this film,but,this is an outer problem.In spite of this it is an excellence film,Gorgeous sets and realistic dinosaurs ,Bryce in her 1970's hair do,which has become popular again and handsome leading man Chris Pratt.I was certainly satisfied with this movie.Both 3D and flat were good. The sound was arousing and excellent .No out of synchronizing problems here,since both images are in a folder stabled .Great for Dino fans and 3D fans. 10/21/15",
         "Jurassic World",
         "6.9",
         "Action, Adventure, Sci-Fi",
         "2015"
        ],
        [
         "20",
         "tt0369610",
         "Should have stayed extinct !",
         "6.0",
         "I really really wanted to like it being a huge fan of the original story and film Jurassic Park but it was missing that Spielberg magic. Some really cool effects but overall disappointing attempt to restart the franchise. Never understand why they can't try something original but have to resort to borrowing from the previous films. Even Spielberg had trouble with his sequels, with the third film in the franchise being particularly bad. Would have liked to have seen some improvements in the actual dinosaurs to reflect current thinking but they decided to stick with the same versions from 17 year ago. I think that this one Jurassic World will end being seen as better than the third film but inferior to one and even two. Direction story and acting were below par with way too many inconsistencies gets a pass from me for at least trying...probably better to save your pennies for the next summer blockbuster or you could always go and watch Max be Mad again.",
         "Jurassic World",
         "6.9",
         "Action, Adventure, Sci-Fi",
         "2015"
        ],
        [
         "21",
         "tt0369610",
         "Don't let people mislead you with sentimentalism, it holds it self by its own as an excellent movie",
         "10.0",
         "Is a solid movie and it holds itself as a trilling experience for everyone. Yes, people from the original cast are not there, however there is actually not a logical reason in the time line to make them go back. Taking out this little detail, the acting is amazing and Chris Pratt holds amazingly as a main character again . Animations are better than ever and the story line even if a little prematurely developed is exciting and looks to reward the new audience as well as the hard on fans. Overall is a great movie which promise enjoyment. I loved it and I will recommend it for everyone that is a fan and for the ones that just want to see a movie that will print a smile at the end.",
         "Jurassic World",
         "6.9",
         "Action, Adventure, Sci-Fi",
         "2015"
        ],
        [
         "22",
         "tt0369610",
         "Jurassic World is decent popcorn entertainment but ultimately feels like wasted potential",
         "6.0",
         "Upon leaving the theater, my reaction to Jurassic World was \"eh it was good enough\". A few days later as I think back to the movie, I remember the action packed finale and some of the great visuals but ultimately there was something lacking from the film, a soul, an identity.Newcomer director Colin Trevorrow proves that he has the ability to to shoot involving action scenes, despite having just one small indie film on his resume. Despite this, sometimes his direction can feel flat, especially in dialogue heavy scenes where he struggles to create dynamism in the interactions of his characters. This leaves the audience uninvested in the intricacies of the story (which is highly straightforward) and simply eager to get to the next dino' showdown.The dinosaur scenes in this film are overall fantastic, and elevate the movie to new heights. I felt like there could have been a greater variety of dinosaurs on offer here, but the ones that are in the film (especially the Mosasaur and I-Rex) deliver the goods.Unlike the original Jurassic Park and to a certain extent The Lost World, Jurassic World presents shallow characters and tries to flesh them out in a cliché manner. For example, the divorce subplot involving the two boys that is brought up once early on in the film, and then never resolved or mentioned following that scene. Another example is the main female character Claire (Bryce Dallas Howard) who is portrayed in a negative and highly stereotypical manner for 3/4 of the movie.Some people have criticized Irfan Khan's character but I thought his small character arc was brilliant. However the military subplot was both unneeded and implausible and should have been scrapped. Chris Pratt was decent as always but wasn't given much to work with here. Ultimately, the movie somewhat succeeds in creating a plausible and believable world, however it would have benefited from some more confident direction and a greater focus on story and characterization over visuals. I don't really have a pressing desire to delve back into the world of the film because it ultimately felt too soulless, especially in comparison to Spielberg's original.The movie has been marketed as an action/thriller film and it achieves this at the expense of the more subtle tension present in previous installments in the series. That said, if you are looking for thrilling popcorn entertainment you will have a good time with this one, just don't expect a classic.6/10",
         "Jurassic World",
         "6.9",
         "Action, Adventure, Sci-Fi",
         "2015"
        ],
        [
         "23",
         "tt0369610",
         "Fun, but are all the characters THAT stupid?",
         "6.0",
         "Okay, I will TRY to not judge this film too much on it's obviously superior predecessor Jurassic Park... BUT, there will be some areas where that will be inevitable, but that is to be expected. No, I don't think this is a bad film, it's much better than the vast majority of the underwhelming CGI overkill films that are released nowadays. I would say its fun, but its not a masterpiece.Chris Pratt is fun, I don't know why but he is, and his character helps redeem this movies flaws. The idea of the park is too and so are some of the dinosaurs, but I don't see the attraction in the whole genetic manufacturing of new species, including the big bad one with that name I can't recall. What's wrong with the old dinosaurs? Honestly, they are dinosaurs, they will always be interesting so there is no need to create a pterodactyl with a T-Rex head and a Raptor's arse or whatever, there's just no need.Some of the visuals are fantastic, but they don't take away from the plot's gaping hole which for me played on my mind throughout the whole film. In the original, the workers at JP are sold out by Wayne Knight's character, yes the park had bugs but it fell apart based on betrayal. Whereas in JW, they are literally competent enough to build the theme park but alarmingly too stupid to maintain it. They have built the big bad dinosaur to have camouflage, and then get surprised when they couldn't see it in the cage? They fit with a GPS, and then don't check it BEFORE entering the cage, so they completely overreact and the creature has now outwitted them without even trying. They fitted it with camouflage and GPS and then lose their minds wondering where it is! Also, it may have been worth fitting the cage with a human sized door... pretty standard in any minor zoo, much less a prehistoric theme park. Thats where the disaster starts, but unlike the workers of JP, it is ALL their fault. Honestly, you'd think people in charge of such a big park would have a bit more common sense. There were other minor plot holes but this one got me the most.This doesn't completely destroy the film, it has it's strengths and is by no means un-watchable like other remakes. I liked Pratt's story with the raptors, although it probably could have done without using them like power rangers later in the film though... And I did appreciate the T-Rex (the original leviathan) saving the day in an albeit predictable manor. Yes, this film isn't without strengths.It is possible to love JP and still enjoy JW, I promise.",
         "Jurassic World",
         "6.9",
         "Action, Adventure, Sci-Fi",
         "2015"
        ],
        [
         "24",
         "tt0369610",
         "What a world...what a world",
         "6.0",
         "Seeing Dinosaurs on a large screen do things...any things is fun and entertaining. In this case...Its the actors and the story that distracts and takes away. The movie starts out and at some point builds an interest and even a tension. Why? You cant wait to see the Dinosaurs! Then, what will they do and when starts to present itself. Then, and I wont say when, the ability to critique this movie presents itself. I wonder what people in the business are thinking when they have a successful formula and don't bother anymore to make it special. Why? What so hard about making something so good that you want to see it many times and buy the DVD too. How hard is it to write a decent two hour story? To see this movie once, on the big screen is worth the ticket price but no memories after that. Once is enough. There are still a few people out there in that enjoy a good story. Don't forget us or we may forget you. At the theater, definitely a popcorn move, tasty drink and a snack to be sure",
         "Jurassic World",
         "6.9",
         "Action, Adventure, Sci-Fi",
         "2015"
        ],
        [
         "25",
         "tt3774694",
         "This film is actually brilliant.",
         "7.0",
         "I know I only rated it a seven out of ten but that's because I admit this film's faults. It certainly isn't near perfect but I felt very moved by the characters and their story. Lots of people may not be able to relate to this film however those of us that do can say that everything about this depiction of love has been experienced and is real. As a grown single adult living in today's dating world I can attest that the relationship between Murphy and Electra exists. Their obsession with each other and with sex that led them into a deep and possibly unreal infatuation was honest and thought provoking. Love sometimes doesn't make sense and can't be described or made logical. Their connection was what drove them into darkness, madness and despair. Love is completely all consuming on any level it's represented on. So many times have I given myself up for something that a year later I looked back on and couldn't reconcile my behavior, and so many times have I given myself up to something to only sabotage it before it completely devoured me. I don't know if I have been in love, but I have felt what these characters are going through and I wouldn't know what else to call it. In the vein of Harmony Korine and Lars von Trier I think Gasper Noe is a genius. Yes this movie is uncomfortable, yes the acting isn't great and yes the story is dry, but it's a genuine take on what relationships look like for some people in their mid twenties to early thirties and I loved every second of it.",
         "Love",
         "6.1",
         "Drama, Romance",
         "2015"
        ],
        [
         "26",
         "tt3774694",
         "Gaspar Noe's Arthouse Porno (in 3D)",
         "7.0",
         "Love, a film by the provocative French director Gaspar Noe, offers a unique perspective on sex and relationships. While it can be considered an arthouse porn movie, Love's well-crafted cinematography and authentic portrayal of relationships make it intriguing.Notably, the film sparked discussions due to its unsimulated sex scenes. Noe treats these sequences like meticulously choreographed action pieces, broken up by scenes of dialogue and drama. While one could debate the necessity of these scenes, they undeniably contribute to the film's pursuit of authenticity, as the actors genuinely engage in sexual acts. This rawness adds a level of intimacy seldom witnessed on screen. This added realism is necessary, as the acting, while serviceable, is never great.However, the inner monologue of our protagonist, Murphy, often comes across as painfully pretentious and grating, detracting from the overall experience. Similarly, the confrontations between Murphy and Electra are cringe-inducing, intentionally highlighting the discomfort and awkwardness that often accompanies real-life relationship conflicts when viewed from the outside.At 134 minutes, the film is too long, especially when the main character is as unlikeable and toxic as Murphy. It's surprising that a movie titled Love presents such a pessimistic view of love and monogamy, yet this unexpected perspective enhances the film's intrigue and allure.",
         "Love",
         "6.1",
         "Drama, Romance",
         "2015"
        ],
        [
         "27",
         "tt3774694",
         "Love, Sex and the Aesthetics of Euphemism",
         "6.0",
         "I always have problems with beginnings – the beginning of an article, the beginning of a film, the beginning of a relationship, simply because beginnings are crucial in setting the tone and pattern that will lead you all the way through till the end. Naturally being affected by all the negative social media propaganda that Gaspar Noé's Love (2015) has stirred, I was reluctant to even begin watching it because I am inclined to believe that films with explicit sexual content (except for Lars von Trier's Nymphomaniac, and I will tackle why in another review) are made either to sell like cheap porn for lucrative reasons or to assume a false air of originality and experimentation. I have finally decided to watch Love after it was recommended by a trusted friend of mine, and at the end of the day, one has to constantly push their limits in terms of artistic tolerance.Back to the beginnings, Love begins with a three-minute scene taken in one shot by a steady camera of two people having what seems to be – and what actually turns out to be – unsimulated sex. After overcoming my feelings of discomfort, I started to understand what the Argentinian director is trying to do here. Is it a pornographic scene? It definitely is. But is it meant to be sexually arousing? I would have to argue for a no. Sexual excitement requires a certain amount of build-up, but jumping directly and unexpectedly into the act generates nothing but feelings of shock and unease that would need some time to fade away.The story then unfolds in a backward linear plot. We are introduced to Murphy (the man in the opening sex scene), a frustrated young man who lives in a small apartment in Paris with his detached girlfriend and their son. The memory-evoked reversed narrative is instigated by a voice message he receives from the mother of his ex-girlfriend Electra (the woman from the opening sex scene), asking for his help to find her daughter. The man and the woman from the first sex scene are no longer strangers; we get to see how they broke up, how they managed their relationship, and finally how they met, with a heap of very long unsimulated sex scenes in between.As a voyeur (a person who discreetly watches other people in intimate, usually sexual, positions) I was extremely confused since the enjoyment element was missing. Is it because the sex scenes were too many, too long, too real, or too unnecessary? In one of the scenes Murphy says, as a cunning gesture to voice Gaspar Noé's desire, his biggest dream is to make a movie like no other that truly portrays sentimental sexuality. He also tells Electra: \"I want to make movies out of blood, sperm and tears. This is like the essence of life. I think movies should contain that, perhaps should be made of that.\" Well, we see a lot of sperm and tears in that film, there is no doubt about it. It is true Love depicts relationships from an exceptionally crude, raw angle I have never seen before. Sex in cinema – and in life in general – is an uncanny subject; it lies at the essence of everything, everybody knows it is there, yet nobody talks about it overtly.. not in realistic terms at least. The film feels emotionally real. Too real. And not just when it comes to sex, but also to dialogue and performance. In one scene, Murphy tries to get Electra back and he keeps knocking on her door, after a few seconds she opens the door, apparently under the influence of drugs, and screams at him in the most deranged manner you could ever imagine. The camera does not move; it feels like a terrified neighbor watching the scene from the stairs. Most of the camera movement and angles follow the same pattern throughout the movie: the neutral uninvolved medium shot. Mid-film I realized it was not the sex scenes that made me uncomfortable but the fact that the film is devoid of any cinematic, stylistic euphemisms. In conventional romantic films, there is an invisible line separating the romantic from the sexual – love from desire. The subtle message is always: love is sublime and desire is vulgar. The reality of the things, and as presented in the film, is that both are inseparable in their sublimity and vulgarity.I cannot tell for sure whether I like it or not. Cinema, as Slavoj iek puts it, is \"the ultimate pervert art\" because it does not directly satisfy our desires but manipulates them. It does not show us our capabilities, but give us the illusion that we are capable. Cinema draws the line between imagination and reality and keeps crisscrossing the boundary: it takes imaginary elements and roots them in reality, and sugarcoats real elements in imaginary wraps. The trick is not to call a spade a spade, i.e. not to place two firm feet on one side of the spectrum; otherwise you would shake the balance between reality and imagination that the viewer cannot find in real life.Whatever your sentiments are towards the film, Noé – purposefully or inadvertently – raises some important issues: what if cinema does away with the aesthetics of presentational euphemism? Would it undermine its role as an artistic medium? Would it put the viewer on the defensive, being constantly faced with the unrefined reality of what (s)he dreads/desires?The way I see it is that Noé created an extremely stimulating film, not sexually as he probably desired but intellectually and sentimentally.I'm grateful I watched Love alone and had the chance to struggle with and make sense of all those feelings and thoughts by myself. I can imagine how uncomfortable it would be watching it in a movie theater with other people, let alone how the actors felt while shooting!",
         "Love",
         "6.1",
         "Drama, Romance",
         "2015"
        ],
        [
         "28",
         "tt3774694",
         "Great lighting",
         null,
         "This film tells the story of a man trapped with his wife and child, yet he keeps on thinking about his ex-girlfriend who is not contactable. The story then winds back in time to tell how his relationships with his ex-girlfriend and his wife come about.I have heard about the gratuitous explicit sex scenes in the film, and indeed there is a prolonged sex scene every five minutes. The story is quite interesting, as the man reflects and reminisces about Elektra, who is so adventurous that she becomes increasingly unstable. The problems encountered by the man are quite real life, and viewers can easily relate to his situation. What strikes me is that the lighting effects of the film is very remarkable, the use of focused lighting enhances the mood a lot. The slow strobe effect in the swingers' club is captivating. Overall, \"Love\" is worth a watch as it depicts real life relationship problems.",
         "Love",
         "6.1",
         "Drama, Romance",
         "2015"
        ],
        [
         "29",
         "tt3774694",
         "Not great, but far from bad",
         "7.0",
         "Let's just get this out of the way, there is a lot of unsimulated sex in this movie. This is definitely on par with porn, but since it was shot with \"real\" actors it was allowed in theaters. I did see somewhere online that there is a super cut of all the sex scenes from this and it comes in at just under 30 minutes, so let that inform your decision to watch or not.This is a story of a couple that are in a very sexual relationship and decide to invite their beautiful neighbor to join them. This causes problems.If you like 9 Songs then you will most decidedly like this. Love probably features more sex but does offer a lot more plot as well.",
         "Love",
         "6.1",
         "Drama, Romance",
         "2015"
        ],
        [
         "30",
         "tt3774694",
         "Love: \"Art?\" No, no it really isn't.",
         "2.0",
         "PlotMurphy is an American living in Paris who enters a highly sexually and emotionally charged relationship with Electra. Unaware of the effect it will have on their relationship, they invite their pretty neighbor into their bed.CastNot familiar with the cast but brought to you by Gaspar Noé, the man who gave us Climax (2018) and the highly controversial Irreversible (2002), he clearly has a \"Style\". Notable mention regarding Aomi Muyock who was just, dreadful.VerdictI've just done my top 10 French movies and have to say it's not a great selection, me and French cinema have never been on the same page especially when it's come to horror movies.Love is an award winning \"Art\" film and wow do I use that term loosely. Evidence that if the right people call it art then enough people will consider it as such. Love is an adult film, let's not kid ourselves and I don't mean as in it's aimed at adults I mean this is adult entertainment, the stuff that would be in the backroom of a video store behind a curtain. Get me?The opening scene was a drawn out emotionally dead sequence which was graphic and set the tone but immediately made me question what I was watching.The movie is advertised as a a drama/romance. Let me be clear this has a lot of drama, but none of it is engaging. You'll hate the characters and be frustrated that there are more \"Adult\" scenes that dramatic content. And romance? Don't make me laugh, there's nothing romantic about this film. It focuses on a highly toxic relationship that should never have been.This is not a movie, it's pornography.RantsLet me be clear, I'm no prude and have no problem with sex and nudity in films in the slightest. However that's all this is, I don't understand why they dressed this up as a legitimate film or why it got the praise it did. There is a very fine line between this and the average Jenna Jameson movie so why is that smut and this is art?BreakdownBarely a movie\nAomi Muyock was awful\nThis is not art.",
         "Love",
         "6.1",
         "Drama, Romance",
         "2015"
        ],
        [
         "31",
         "tt3774694",
         "A lengthy study of hungover sexcapades",
         "7.0",
         "There's been discussion about whether there should be sex scenes in movies at all. There are those who claim that they are distracting, offer nothing to further the story and could be skipped and nothing would be missed. Sometimes they are outright obscene. I find myself on the opposing camp. I like my movies controversial, and I think movies shouldn't shy away from subject matter because it is 'risky'. Sex is a part of life, it's emotional and intense and important, so it makes sense that movies would delve into it.Now 'Love' is a movie that borders on pornography, that's how deeply it delves into the matter of sex. The plentiful sex scenes are reportedly unsimulated - meaning the actors actually really have sex on screen, which is enough for many to label it obscene. And obscene it is. The film is full of depravity, sexual lust, fetishes, and generally morally reprehensible behavior. So if you don't go for that kind of thing, you should steer clear of this movie.I saw a review of 'Love' calling it pretentious. I don't think the movie is pretentious so much as the main character himself is, spouting off about 2001: A Space Odyssey and how he's going to be a great director. He's not a very respectable person no matter how you look at it. He cheats on his girlfriend and when he has to take responsibility and raise a baby with his hook-up, he constantly pines for his days of fooling around and doing drugs. Actually, he never really stops doing drugs.The story - and the 'message' - of the movie is about how the young American film-maker idolizes French bohemian sexuality and freedom, but ends up getting sick of too much of it. But it's not a French movie and not an American one. It's simply a Gaspar Noé movie, and it shows. There was barely any script, no guidelines or rules in making the movie. It's the director's movie, completely focused on style and theme, color and composition and rhythm, largely disregarding story and even characterization. There are frequent short 'black-outs' all over the movie, which made me think that my copy was faulty somehow. The movie has a unique flow, it's nonchronological, following the thoughts and memories of a character suffering from a terrible hangover.I have to make a comparison to 'Blue Is The Warmest Color', which really is a French movie, also has a lengthy running time, and also features a whole lot of sex. That movie was emotional and relatable, it was like a look into a life that was really lived, and despite the controversial lesbian sex scenes it strangely had a lot of innocence in it. 'Love' is like the drug-drenched, depraved, delirious and destructive, nihilistic counterpart to that movie.",
         "Love",
         "6.1",
         "Drama, Romance",
         "2015"
        ],
        [
         "32",
         "tt3774694",
         "Watch porn.",
         "3.0",
         "I have nothing against sex. I love it, I love watching it but this was painful. The sex was hot but the story and the acting was terrible. I think it was not worth it and very very long. I can see what the director was trying to do but he missed the mark. For the same kind of story with the sex dial down and the story dial up I would suggest The Dreamers. This story could be told in about 30 min, add maybe 30 min to get invested in the characters and that would be good. 2h is way to long for this and 5 min sex scene every 10 min is too much. Like the title says. Watch porn it will be more fulfilling.Now for the actual review. The plot is simple. It is a guy reflecting on a past relationship. The guy is a little to dysfunctional to be in a healthy one but it is not extreme. The only real question you have during the movie does not get answered and that is about it. I would not recommend this to anyone.",
         "Love",
         "6.1",
         "Drama, Romance",
         "2015"
        ],
        [
         "33",
         "tt3774694",
         "Forget the marketing and chatter, there is a real film here.",
         "8.0",
         "The script is laughable and the acting (often voice-over), too. The 3D sex is well marketed. And yes, during certain scenes people got up and left. Yet. The film doesn't argue to be anything beyond a meandering stroll into the gallows melancholy. And it does this very very well. The film features no highbrow intellectual conversations but instead, favors the same lines you've probably slung at your lovers. Again and again and again. Just like the sex you've had with your lovers again and again and again. You know their bodies and you know how to please them and above all, you know how to hurt them. Sorrow. There's a resplendent simplicity here that hypnotizes the viewer.You hear music banging inside the club, yet the lovers are outside in halflight. Having sex, obviously. This is a good image of what this film surprisingly achieves best: intimacy. And it fights for that with it's magnificent camera-work and editing.But what would this review be if it didn't talk about the 3D sex? Love and cinema are inseparable. Love stories are why you stick glued to a chair for a couple of hours. Raw sex is part of love, yet, films used to cut to birds necking after a kiss. Then it became steamy windows. Signs, metaphors, analogies, semiotic nausea. And here, Noé takes that away which makes the film even coarser, and ultimately more brutal.I wanted to write this review because the whole marketing (\"finally a love story restricted for -16) and shock value (an eye-rolling warning in the opening credits) have cheapened what this film has achieved and I encourage viewers to look beyond.",
         "Love",
         "6.1",
         "Drama, Romance",
         "2015"
        ],
        [
         "34",
         "tt3774694",
         "Well-made project but ends up tripping over its own interpretation of reality.",
         "6.0",
         "Overly ambitious project about a millennial love arc that ends in heartbreak, but what are the lessons learned? Murphy (Karl Glusman) is an open-minded film student in Paris who meets Elektra (Aomi Muyock), and the two embrace their high sex drives with giddyness. However, after the relationship embraces polyamory and swingers culture, only one of the two is emotionally stable enough to handle it.The film is directed really well by Noé, who by now should know well enough how to make it all super claustrophobic and uncomfortable for the viewer. The cinematography is good but relies too heavily on saturation but it's never really an issue. Nonlinear storytelling is clear, concise, and there's some really neat editing at parts. The story does drag often, and the film overall could've cut out 10-15 minutes of filler.The real issue with \"Love\" is the lack of chemistry between Murphy and Elektra -- we just don't see it, pretty much ever. The writing is there, but the actors just cannot grasp it. This is largely because -- are you ready? -- they aren't actors; Noé met both Glusman and Muyock in a club one night and asked them to star. It's clear that he wanted to achieve the most organic and natural relationship dynamic on-screen by not using \"real actors\" -- but in what is supposed to be an emotionally charged film, that just doesn't work.In fact, in a sort of disturbingly surreal manner, the very same issues that the film is trying to highlight in millennial relationships (emotional maturity and boundaries over sex) seem to show up in the unsimulated sex scenes between Glusman and Muyock. Glusman constantly falls out of character, allowing his own sexual desire to ruin the scene and any emotional impact Noé was looking for. Muyock seems bored and uninterested -- and who could blame her? -- likely due to Glusman's obvious zeal about getting paid to fuck her. I'm not sure he entirely understood the fact he was in an art film, and in remaining ignorant, he ends up verifying Noé's entire thesis: young adults, especially men, get lost in the idea of sexual nirvana over the thing that truly matters: love.The second half of the film lifts the veil on Murphy's narcissistic and emotionally abusive behavior in the relationship, and tragically, Glusman is a good actor when portraying an unstable douchebag (and Muyock is phenomenal when screaming at him).The film finishes the same place it starts, seeming to depict Murphy at rock-bottom in a horrible and accidental family dynamic: a fitting bookend to a relationship that was destroyed not by too much sex, but his own fear of it. The ending is eerie and powerful, and hints at the generational ripples that will be felt for decades because of his own actions. It's a great story, and sort of well-acted, but it ends up merely tripping up on its own interpretation of reality instead of offering us anything particularly new.",
         "Love",
         "6.1",
         "Drama, Romance",
         "2015"
        ],
        [
         "35",
         "tt3774694",
         "Sex doesn't always sell",
         "2.0",
         "Love is Gaspar Noe's latest film. It's essentially porn. Long, drawn out sequences of sex throughout. But there's a story, and that's what could be interesting about this film. Not since the early 70's has pornographic films experimented telling actual stories instead of just getting straight to business. Nymphomaniac is the last film of the modern era that attempted this, and it absolutely blew me away. This would've been fascinating, but instead, it's PAINFULLY boring. The story line and dialogue sucks. I didn't feel for anyone in this film. The acting was extremely stilted, but in porn films that's pretty much the norm. The cinematography is the only standout. It's beautiful to look at, as most Gaspar Noe films are. However, I despised the black screen that would appear every time there was a cut. As well as the many shots of the main character standing inside a doorway with his back turned to the camera, listening to an annoying voicemail. Why did he do that? Why would he think that would work? If there's a profound reason for those two editing decisions, I'd like to know.. not that it would make me feel any differently, I still hate it. Love is not only a missed opportunity, it's a film I'll never remember, or want to remember.",
         "Love",
         "6.1",
         "Drama, Romance",
         "2015"
        ],
        [
         "36",
         "tt3774694",
         "Anything that can go wrong, will go wrong.",
         "8.0",
         "'Love' will most likely be discredited by many due to it's sheer honesty, like many films of it's kind are. Yet this honesty, as brutal and daring as it might seem, feels necessary to connect with and understand what the characters are going through, on an entirely new emotional level. In the words of Murphy, Gaspar Noe might have made the only movie that truly depicts 'sentimental sexuality'. 'Love' has many subtle and not-so-subtle references to the underlying story and to the director himself. Gaspar's mother is named Nora Murphy, while Murphy's son is named Gaspar and Electra's ex boyfriend - Noe. His favorite movie is Kubrick's '2001', while hers is Lang's 'M', both of which seem to fuel Murphy and Electra's behavior throughout the movie, where Murphy is often aimlessly overwhelmed with hope and desire, while Electra seems unable to forgive.Gaspar Noe constantly cuts through the past and the future, using the techniques he is so familiar with since Irreversible. The movie abruptly switches between various stages of Murphy's and Electra's relationship, always cutting back to the present, where Murphy's is in absolute emotional agony and despair, raising a child with Clara. At times Murphy and Electra are so deeply engrained in one another that their fights and dialogues seem outright comical and immature, as if we are observing a 16 year- old couple. But this is truly where 'Love' stands out. Being in love feels and looks exactly like this, it's raw, emotional and brutal yet foggy and sweet; when no one else exists or matters.In one of Electra's and Murphy's conversations they talk about the sad reality that they are going nowhere and dragging each other down, they discuss taking a break. It is an extremely sad and emotional scene, where the thought itself brings so much fear into them, that they simply end up holding each other even tighter.The script for 'Love' is only 7 pages long. It is full of beautiful and weird dialogues and extremely emotional, 'free-played' graphic scenes. These scenes however are not there to impress the viewer or open the doors to the unknown. This is also not a nymphomaniac-like sexual exploration. Gaspar Noe does a masterful job in showing us the true emotional aspect of love, in it's raw and relatable form, sex.The sound-score is stunning, with the music gradually changing depending on the mood and the context of the scenes. Even though a lot of times it seems like we are watching the same people 'fuck' in the same positions, different context, feelings and music make each of these scenes truly unique and mesmerizing on it's own. Noe also does a wonderful job in his minimalistic depiction of the story and the scenery. Murphy and Electra always wear contrasting colors, while the background is usually very simple yet fitting to them both. As if to say that when in love, everything should be seen through the eyes of the lovers. 'Love' might sometimes seem silly, overly graphic and way too sentimental, yet it hits all the right notes.",
         "Love",
         "6.1",
         "Drama, Romance",
         "2015"
        ],
        [
         "37",
         "tt3774694",
         "What is Love?",
         "6.0",
         "While I didn't try to think of the song, the line \"Baby don't hurt me ... don't hurt me no more\" came to mind. And it's not like it doesn't suit or fit with the movie (if you excuse the pun). And let's get this out of the way straight ahead: If you didn't or don't already know, this movie has scenes of explicit sex in it. And it begins with a masturbation scene, to shock you right out of the gate (or those who will be offended by it of course).It goes without saying that this is full of nudity. You may not have seen this actors before, but you'll see everything of them in this. It's not only being naked physically, but also mentally. Laying emotions out there and going through motions (literally and metaphorically) is draining. Both for the actors and the viewers. The story is simple. It's about love or the idea of it.Which brings us back to our initial question. Are we able to appreciate what we have? Or do we long for things we can't have? Can we be happy with the person we spend our time or is the temptation for something new too big? Obviously that depends on the individual and their \"world\" view. Also their emotional state. The movie is as you can tell not an easy watch ... for multiple reasons. The message is clear though ...",
         "Love",
         "6.1",
         "Drama, Romance",
         "2015"
        ],
        [
         "38",
         "tt3774694",
         "A long and tedious bore feast",
         "1.0",
         "Love, as it is titled, should be called Bored Whiny Man Child. This dirge clocks in at a whopping 2 hours and 15 minutes. I had to stop, walk away for a while and then return to watch this sniffling character act out his hypocrisy in such myopic detail. The relationship between the two principal characters is like oil and water. The only thing they share is a voracious appetite for sex, lots and lots of sex. The add a third person into the mix who winds up getting pregnant by the guy which leads to the main couple breaking up. Since they all were in a ménage à trois, that shouldn't have been an issue but it was. The female leaves him and we spend the rest of the film exploring his memories of her and him having more sex. They participate in orgies and he gets mad because she's having sex with other guys. He can had fun but she can't. If your life is nothing but the sex, why should that matter especially if he can participate and she can't? And there lies the quagmire with this presentation. This guy is totally immature. You become bored with him and with him having sex. Closeups of him with his exploding orgasms weren't shocking, innovative, wanted or move the picture along. After a while, you just want this story to just wrap up. You wonder what is the point? There is nothing redeeming about it. The other female character who has had his child is completely ignored. She is just another prop instead of exploring that dynamic of how they are dealing with a child together. Instead, we find his character crying in the bathtub with the toddler. And you have to ask yourself once again, the time he and his old girlfriend were together appears to be at least three years because you have to factor in the time the girl was pregnant and then you jump in time to see a toddler at least two years old. So why did his old girlfriend/s mother call him about her and why did he just started thinking about someone who hasn't been in his life for a long time? The writing was just poor. This guy was suppose to be some aspiring filmmaker. He is neither aspiring or making films and filming your naked girlfriend on a small video camera doesn't qualify you one bit. That aspect of the character was totally ignored as well. This was just bad. If you want to see if because of the unsimulated sex scenes, I would advise just watch some 5 minute porn clip and avoid this colossus time waster.",
         "Love",
         "6.1",
         "Drama, Romance",
         "2015"
        ],
        [
         "39",
         "tt3774694",
         "As thought provoking and stylish as you'd expect",
         "7.0",
         "As thought provoking and stylish as you'd expect. Kind of like a hybrid of Enter the Void, Nymphomaniac, The Lobster and Weekend. You can feel the love that has gone into this film.The sex is both beautiful and ugly. It's not porn, more like an aestheticized version of somebody's personal sex tape, but one designed to provoke contemplation more than any other response. To feel any more real it would need to be in the style of a documentary, which would have the effect of distancing you from the characters. I didn't feel like I was experiencing the story directly (as I do with good suspense movies), but I did want things to work out well for the characters. If you judge a movie by how much the pacing and suspense immerses you, you won't enjoy Love. If you can be immersed into a movie's atmosphere and want something to feed your imagination, then you will get a lot from it.A lot of reviews and comments on IMDb seem to say it is not a thought provoking movie, or that it is pretentious, yet the poster was moved to write about their thoughts on it, so it certainly isn't empty. I found talking about it can result in the conversation going to some very interesting places.It has earned a place in the history of cinema, and is hopefully a step away from the feelings of shame people feel about sex, a step towards greater freedom in art, culture and cinema.",
         "Love",
         "6.1",
         "Drama, Romance",
         "2015"
        ],
        [
         "40",
         "tt3774694",
         "Self-Indulgent Melodrama",
         "2.0",
         "No one was able to walk out of the theater this evening as the director Gaspar Noe was in the audience. I'm certain he took note of folks laughing at scenes meant to have profound emotional impact, like the entire ending. Little character development with the main character's 17 yr old wife, or 18, they had sex when she was 16, nothing more than a prop. Their child, the unintended creation of a broken condom, is named \"Gaspar\". The wife is an orphan of sorts, unwanted by her mother but somehow has the cash and wherewithall to rent an apt in Paris and do nothing more than go clubbing, listen to her iPod and bang strangers. Profoundly self-indulgent about lost love, but hard to take seriously when the lost love happens between supposed college students (we never see the college, college books or a single classmate) living and partying in Paris, none of whom even are even remotely worth caring about. Except perhaps the teenage wife, after she gives birth, but again her only role is to get banged, have a kid and though otherwise absolutely gorgeous, kind and loving as only a supermodel with minimal lines can be, this one only serves to annoy the hell out of the main character. Reminded me of Brown Bunny, but that was a film with guts. This is just an excuse to film cumshots in 3D, wrapped around a plot that never went anywhere with no sense of finality or a hint of revelation or completion. In fact, the movie had to flash a massive THE END for the audience to know the film was over.",
         "Love",
         "6.1",
         "Drama, Romance",
         "2015"
        ],
        [
         "41",
         "tt3774694",
         "A marriage made in hell...",
         "6.0",
         "... and no I am not talking about the characters in the film, I am talking about what happens when an A-list director \"falls in love\" with the idea of doing a sexually explicit film.I want to be clear about this and I think the data will bear me out. Make a list of all the films in the last 100 years by A-list directors who felt confident they could infringe on territory formerly occupied only by the porn industry and still prevail with a hit film...? Are you done? I will save you time. I did the list myself. And the answer is none, zero, zip, nada.Just like there are in the porn industry a handful of directors who constantly try to push the boundaries of their craft into the mainstream (which almost always means soft light and lots of white sheets, films that most resemble a commercial for TIDE) Noe, a brilliant artiste (Irreversible and Enter the Void were both brilliant) tried to push the envelope .. and ended up with junk mail.Sure, if you are determined to see a silk purse where others are seeing a sow's ear, you could pretend that this film has a great deal to say about men's expectations about love and marriage.But this is a review just between the writer and the reader, and we respect each other too much to lie. So I will be clear -- Noe went where angels fear to tread. And ended up with a film that, for posterity, is simply not going to make his A-reel.",
         "Love",
         "6.1",
         "Drama, Romance",
         "2015"
        ],
        [
         "42",
         "tt3774694",
         "Filmmaking at its worse",
         "1.0",
         "There's a point when the main character and voice-over narrator on Love says that he never sees a movie presenting \"emotional sexuality\". Sex, semen and blood, that's what people would like to see. Murphy is a filmmaker, or so he says. Actually, I think he is just a puppet to Gaspar Noé intents in this too stereotyped film that had the big ambition to be innovative.Love has been creating some noisy around the world, and has been like that since its premiere during Cannes. Explicit sex and love scenes on 3D, that is how the movie has been known mostly. Despite the bad reviews, I thought it would be at least interesting. It wasn't, at all.Before the first scene, there's a sign announcing the moment to put the 3D glasses on. And so the terrible nonsense begins. At the very begin I've already realized this movie is just noisy. The sex is explicit and so, so boring, that I was begging to the characters to finish their business as soon as possible. What was announced as innovative, is just a bunch of clichés put together. It is filmmaking in its worse. Gaspar Noe thinks he knows so much, and that he is above the other mere mortals. His condescending arrogance is staggering, actually. I imagine him thinking: this world is so mediocre, full of prude hypocrites, I'll show them how it's done and make a movie about excruciating love and sex. So he started to write it and finally realized it wouldn't be so easy. To talk about life, and love, and sex it is necessary to be really alive, and not just criticizing the other's ways from outside. Unable to write a true love sexy story, he decided then to check every box that came to his mind relating to sex: explicit scenes, close on dicks, threesome, sex clubs, homosexual sex, trannies, public sex and so on. As if a close on a ejaculating dick would be the quintessence of a revolutionary speech. There's a bunch of unrelated scenes, as if the awful voice-over could succeed in giving them some meaning. An example: at one scene, the couple are lying on bed after sex, and from nothing, the guy asks the girl about her biggest fantasy. Sexual? she replies. Of course, he says. And she tells him how that she would like have sex with him and a third woman, a blond with blue eyes. The next day or so, they are getting their mail when they meet the new neighbor: a sixteen blue eyed blond that are living next door. After the badly filmed threesome, the guy says: thanks for Europe! (a place where eh would have a three way sex with a minor). Did you get the image? So.Gaspar Noé, by his main character, affirms that there's not sexual love stories on the screen. I think he never saw any of Bernardo Bertolucci's movies. Or the Spanish/French production Sex and Lucía, a beautiful story about love with stunning and heartfelt sex scenes (Paz Vega is incredible). Or even Betty Blue, for everybody's sake. Or even 9 Songs - even with all the bad reviews, this one is actually honest. Sorry the rage, but it is inevitable. Noé should look better around him, or, even better, he should head to the DVD section on a store and just see how wrong he is. I've read how the acting here is terrible, and it is a fact. The actors are not even able to walk naturally (it is so staged that hurts), let alone show deep feelings or have real sex. And despite what has been said, I don't think it is difficult to find good actors that would accept to be a part of this project if it was a good one. At least his protagonist should have been more endearing - even if I'm not sure that it would have saved this doomed story anyway. Because the problem here is not just the bad acting, the lousy dialogues, the incredibly lousy and staged sex scenes. The main trouble in this movie is the sexist, arrogant, wrongful view about the world and people. And when a filmmaker start this way, there's nothing that can save him from the impending doom. People were leaving the theater constantly, they were dropping like flies. However, rather than doing that by how explicit the sex is, I think people did leave for the sole reason of how bad is this movie. It's unbearable in fact. And we see no end to it, two hours and fifteen minutes of sheer bad filmmaking. Not could be more far from deep emotion, an intense love story and visceral sex. (First published at http://onemovieadaywithamelie.blogspot.com.br/2015/09/day-190-love- september15.html",
         "Love",
         "6.1",
         "Drama, Romance",
         "2015"
        ],
        [
         "43",
         "tt3774694",
         "Something to be Said",
         "9.0",
         "You never quite know what you're going to get from Gaspar Noe and he doesn't disappoint here. As he did with Enter the Void and Irreversible he has created a film that will not soon leave your heart, mind and soul in Love. Love is a story of mass proportions and a film to be watched carefully.",
         "Love",
         "6.1",
         "Drama, Romance",
         "2015"
        ],
        [
         "44",
         "tt3774694",
         "There's an amazing movie in here somewhere",
         "7.0",
         "The plot was really really good it's emotional Complex and sad. Where this film fails is shockingly the sex. There's too much weird I know. But really it doesn't add a ton to the relationship especially with omni. There's definitely some uneeded scenes. I get that sex was important in there relationship and it would be fine to show that but Jesus christ does this movie spend a load of time with it. I found the interactions between characters much more interesting. Just too long and the payoff was.. OK I guess it's a tragedy piece in a lot of sense but the landing was meh. I would of preferred more time with omni and the aftermath of.what happend.. Still it's a solidd movie that depicts very real things and issues.",
         "Love",
         "6.1",
         "Drama, Romance",
         "2015"
        ],
        [
         "45",
         "tt3774694",
         "Best porn movie ever!",
         "3.0",
         "It is a 2:04 hours movie.Take out all the scenes where they present you with genitalia and you have a bit over one hour left. If it was a philosophical movie, perhaps there would be a part of the sex sequences that carried more meaning - but there is no such relief in this movie.We are presented with a stereotypical immature, selfish, arrogant, possessive young male studying cinema in Paris - apparently only to get stoned and laid. He meets this sweet, proactive, sexually empowered young woman that also enjoys drugs. Not the least stereotypical, as she falls for him with deep and unbridled love. His love is also deep but he is the villain here, so he get as many other women as the time not having sex with his official one allows.She notices it (who wouldn't, at this rate?) and tells him she also has had her escapades. He makes scene after scene, including beating up her lover (an ex- boyfriend). He tries to bully a police officer inside a police station.She stands by him in another stereotypical situation.Then this monster gets the pretty blonde underage neighbour girl pregnant. This is where she draws the line. Notwithstanding the fact that she was the one that suggested they get another woman in bed. Despite the fact that she made the move to invite the blondie.Then she goes down into a spiral of drugs and alcohol, shutting him off her life completely.Once more, stereotypes.He keeps the blondie, they have a little boy (that he names after the child he and the lost love dreamt to have together - stereotype, anyone?) and, as he drags himself in a pool of self-pity and despair (which does not go unnoticed by said blondie), comes the news that the original girl has been missing for a couple of months.Then he spends a full day calling people to try and find her. In the meanwhile, blondie leaves with the boy, telling him to finish his past so they could have a future.Obviously, he doesn't find her - which doesn't preclude his opium- induced dreams of her to interrupt all the time.There is a very awkward scene with him and the child in the bathtub, after blondie's face tells us she will leave him.And the movie ends with him and original girl embraced under the shower professing endless love and protection.Oh! Did I mention that it is partly filmed backwards, as 'Irreversible' was? By the way, they used a very similar setting - an underground passage - in one of the sequences. Check it out: http://www.imdb.com/title/tt0290673/?ref_=nv_sr_1 Or that this theme of intense, destructive, drugged and short-lived love was way better portrayed in 'More'? Also, a good part of the soundtrack comes from Pink Floyd.... See it: (http://www.imdb.com/title/tt0064694/?ref_=fn_al_tt_2In other words, apart from all the sex, this is a derivative, shallow and unworthy movie...The '3' I gave the movie is for photography and soundtrack. Really good in all scenes, conveys mood and context.The rest is crap.",
         "Love",
         "6.1",
         "Drama, Romance",
         "2015"
        ],
        [
         "46",
         "tt3774694",
         "Beautiful",
         "8.0",
         "Even though the acting could be better, it is a very nice movie to watch.\nSex through deep love is just beautiful.\nWorth to watch.",
         "Love",
         "6.1",
         "Drama, Romance",
         "2015"
        ],
        [
         "47",
         "tt3774694",
         "Good,Weird,Odd and really different",
         "7.0",
         "Well the movie is really different, i felt sad for the main male character with his behavior, the sex scenes are really strong but not from another world, I was not horny, in any sex scene, i just see trying to understand the director point of view, and i hope i did understand this...natural,humans,sex,internet,porn,bisexual and a lot of other things that is happening and will happen in the future, i liked the movie and I did not like, i am giving 7 because the director did a really great job to express the reality of the movie love,behavior,choices and sex. Excellent cinematography, average performance / odd of the actors, good soundtrackof course. My Opinion i am not the master of cinema, but i don't undestard why credential critics give so many bad talk of this movie, i am sure some of they watched/watch porn and/or do sex.",
         "Love",
         "6.1",
         "Drama, Romance",
         "2015"
        ],
        [
         "48",
         "tt3774694",
         "Porn without a plot",
         "1.0",
         "Porn disguised as an artsy love story. 95% of the movie was sex and the rest was going to clubs, drinking, and drugs. Did these people even have jobs? Do yourself a favor and watch a porno. At least they have plots.",
         "Love",
         "6.1",
         "Drama, Romance",
         "2015"
        ],
        [
         "49",
         "tt3774694",
         "Love is Possession",
         "7.0",
         "Love is kind of an exhausting film to watch, but based on how the film is shot and edited, I understand that that's probably its intention.I came out of this film feeling that Love is not the idealistic thing it is made out to be. It's visceral, primal, disgusting, and somewhat like an illness. So much of this film is shot and edited so starkly that the sex scenes, especially, are exceptionally uncomfortable and bordering on repulsive to watch.Coming away from this film, it was very clear to me that this is offering criticism of the quality of millennial relationships. As youth are bound to be, this film shows how sex-obssessed young people can be but juxtaposes it with the failure of experimentation with polyamory which I found really added color and an interesting dynamic to its commentary. There's this obsession with sex and being open to the same kind of free love that existed in the hippie counter culture of the American 1960s, but millennials aren't hippies and still idealize monogamous relationships - making the celebration of free expression of sexuality to be incredibly difficult, if not, impossible.Love had me thinking but it's not a film I would recommend to the casual moviegoer or for those who aren't into the more artistic, independent side of film making.I respect this film for what it has to say as there is more to this film than what I mentioned, which gives it great thematic depth, but I can't say I want to see it again any time soon.",
         "Love",
         "6.1",
         "Drama, Romance",
         "2015"
        ]
       ],
       "shape": {
        "columns": 8,
        "rows": 6291
       }
      },
      "text/html": [
       "<div><style>\n",
       ".dataframe > thead > tr,\n",
       ".dataframe > tbody > tr {\n",
       "  text-align: right;\n",
       "  white-space: pre-wrap;\n",
       "}\n",
       "</style>\n",
       "<small>shape: (6_291, 8)</small><table border=\"1\" class=\"dataframe\"><thead><tr><th>imdb_id</th><th>review_title</th><th>review_rating</th><th>review</th><th>title</th><th>rating</th><th>genre</th><th>year</th></tr><tr><td>str</td><td>str</td><td>i64</td><td>str</td><td>str</td><td>f64</td><td>str</td><td>i64</td></tr></thead><tbody><tr><td>&quot;tt0369610&quot;</td><td>&quot;Spielberg Magic, This Is Not. …</td><td>7</td><td>&quot;You may have heard some critic…</td><td>&quot;Jurassic World&quot;</td><td>6.9</td><td>&quot;Action, Adventure, Sci-Fi&quot;</td><td>2015</td></tr><tr><td>&quot;tt0369610&quot;</td><td>&quot;Not a patch on the original Ju…</td><td>7</td><td>&quot;The original Jurassic Park sti…</td><td>&quot;Jurassic World&quot;</td><td>6.9</td><td>&quot;Action, Adventure, Sci-Fi&quot;</td><td>2015</td></tr><tr><td>&quot;tt0369610&quot;</td><td>&quot;Its a Jurassic World after all…</td><td>7</td><td>&quot;The 4th film in the Jurassic P…</td><td>&quot;Jurassic World&quot;</td><td>6.9</td><td>&quot;Action, Adventure, Sci-Fi&quot;</td><td>2015</td></tr><tr><td>&quot;tt0369610&quot;</td><td>&quot;Worthy Sequel To One Of The Gr…</td><td>null</td><td>&quot;Let&#x27;s start this by stating ho…</td><td>&quot;Jurassic World&quot;</td><td>6.9</td><td>&quot;Action, Adventure, Sci-Fi&quot;</td><td>2015</td></tr><tr><td>&quot;tt0369610&quot;</td><td>&quot;Manages to somewhat return the…</td><td>6</td><td>&quot;Modernized and polished entry …</td><td>&quot;Jurassic World&quot;</td><td>6.9</td><td>&quot;Action, Adventure, Sci-Fi&quot;</td><td>2015</td></tr><tr><td>&hellip;</td><td>&hellip;</td><td>&hellip;</td><td>&hellip;</td><td>&hellip;</td><td>&hellip;</td><td>&hellip;</td><td>&hellip;</td></tr><tr><td>&quot;tt27403986&quot;</td><td>&quot;About a man&quot;</td><td>9</td><td>&quot;Superb casting with Nicholas H…</td><td>&quot;Juror #2&quot;</td><td>7.0</td><td>&quot;Crime, Drama, Mystery&quot;</td><td>2024</td></tr><tr><td>&quot;tt27403986&quot;</td><td>&quot;Not quite a unanimous verdict&quot;</td><td>6</td><td>&quot;This movie had the potential t…</td><td>&quot;Juror #2&quot;</td><td>7.0</td><td>&quot;Crime, Drama, Mystery&quot;</td><td>2024</td></tr><tr><td>&quot;tt27403986&quot;</td><td>&quot;A house built on sand&quot;</td><td>5</td><td>&quot;I doubt that this case would e…</td><td>&quot;Juror #2&quot;</td><td>7.0</td><td>&quot;Crime, Drama, Mystery&quot;</td><td>2024</td></tr><tr><td>&quot;tt27403986&quot;</td><td>&quot;He&#x27;s just a regular guy.&quot;</td><td>6</td><td>&quot;So decidedly un-Eastwood I was…</td><td>&quot;Juror #2&quot;</td><td>7.0</td><td>&quot;Crime, Drama, Mystery&quot;</td><td>2024</td></tr><tr><td>&quot;tt27403986&quot;</td><td>&quot;What is your moral compass?&quot;</td><td>10</td><td>&quot;This movie truly makes you ref…</td><td>&quot;Juror #2&quot;</td><td>7.0</td><td>&quot;Crime, Drama, Mystery&quot;</td><td>2024</td></tr></tbody></table></div>"
      ],
      "text/plain": [
       "shape: (6_291, 8)\n",
       "┌────────────┬──────────────┬──────────────┬──────────────┬──────────┬────────┬─────────────┬──────┐\n",
       "│ imdb_id    ┆ review_title ┆ review_ratin ┆ review       ┆ title    ┆ rating ┆ genre       ┆ year │\n",
       "│ ---        ┆ ---          ┆ g            ┆ ---          ┆ ---      ┆ ---    ┆ ---         ┆ ---  │\n",
       "│ str        ┆ str          ┆ ---          ┆ str          ┆ str      ┆ f64    ┆ str         ┆ i64  │\n",
       "│            ┆              ┆ i64          ┆              ┆          ┆        ┆             ┆      │\n",
       "╞════════════╪══════════════╪══════════════╪══════════════╪══════════╪════════╪═════════════╪══════╡\n",
       "│ tt0369610  ┆ Spielberg    ┆ 7            ┆ You may have ┆ Jurassic ┆ 6.9    ┆ Action,     ┆ 2015 │\n",
       "│            ┆ Magic, This  ┆              ┆ heard some   ┆ World    ┆        ┆ Adventure,  ┆      │\n",
       "│            ┆ Is Not. …    ┆              ┆ critic…      ┆          ┆        ┆ Sci-Fi      ┆      │\n",
       "│ tt0369610  ┆ Not a patch  ┆ 7            ┆ The original ┆ Jurassic ┆ 6.9    ┆ Action,     ┆ 2015 │\n",
       "│            ┆ on the       ┆              ┆ Jurassic     ┆ World    ┆        ┆ Adventure,  ┆      │\n",
       "│            ┆ original Ju… ┆              ┆ Park sti…    ┆          ┆        ┆ Sci-Fi      ┆      │\n",
       "│ tt0369610  ┆ Its a        ┆ 7            ┆ The 4th film ┆ Jurassic ┆ 6.9    ┆ Action,     ┆ 2015 │\n",
       "│            ┆ Jurassic     ┆              ┆ in the       ┆ World    ┆        ┆ Adventure,  ┆      │\n",
       "│            ┆ World after  ┆              ┆ Jurassic P…  ┆          ┆        ┆ Sci-Fi      ┆      │\n",
       "│            ┆ all…         ┆              ┆              ┆          ┆        ┆             ┆      │\n",
       "│ tt0369610  ┆ Worthy       ┆ null         ┆ Let's start  ┆ Jurassic ┆ 6.9    ┆ Action,     ┆ 2015 │\n",
       "│            ┆ Sequel To    ┆              ┆ this by      ┆ World    ┆        ┆ Adventure,  ┆      │\n",
       "│            ┆ One Of The   ┆              ┆ stating ho…  ┆          ┆        ┆ Sci-Fi      ┆      │\n",
       "│            ┆ Gr…          ┆              ┆              ┆          ┆        ┆             ┆      │\n",
       "│ tt0369610  ┆ Manages to   ┆ 6            ┆ Modernized   ┆ Jurassic ┆ 6.9    ┆ Action,     ┆ 2015 │\n",
       "│            ┆ somewhat     ┆              ┆ and polished ┆ World    ┆        ┆ Adventure,  ┆      │\n",
       "│            ┆ return the…  ┆              ┆ entry …      ┆          ┆        ┆ Sci-Fi      ┆      │\n",
       "│ …          ┆ …            ┆ …            ┆ …            ┆ …        ┆ …      ┆ …           ┆ …    │\n",
       "│ tt27403986 ┆ About a man  ┆ 9            ┆ Superb       ┆ Juror #2 ┆ 7.0    ┆ Crime,      ┆ 2024 │\n",
       "│            ┆              ┆              ┆ casting with ┆          ┆        ┆ Drama,      ┆      │\n",
       "│            ┆              ┆              ┆ Nicholas H…  ┆          ┆        ┆ Mystery     ┆      │\n",
       "│ tt27403986 ┆ Not quite a  ┆ 6            ┆ This movie   ┆ Juror #2 ┆ 7.0    ┆ Crime,      ┆ 2024 │\n",
       "│            ┆ unanimous    ┆              ┆ had the      ┆          ┆        ┆ Drama,      ┆      │\n",
       "│            ┆ verdict      ┆              ┆ potential t… ┆          ┆        ┆ Mystery     ┆      │\n",
       "│ tt27403986 ┆ A house      ┆ 5            ┆ I doubt that ┆ Juror #2 ┆ 7.0    ┆ Crime,      ┆ 2024 │\n",
       "│            ┆ built on     ┆              ┆ this case    ┆          ┆        ┆ Drama,      ┆      │\n",
       "│            ┆ sand         ┆              ┆ would e…     ┆          ┆        ┆ Mystery     ┆      │\n",
       "│ tt27403986 ┆ He's just a  ┆ 6            ┆ So decidedly ┆ Juror #2 ┆ 7.0    ┆ Crime,      ┆ 2024 │\n",
       "│            ┆ regular guy. ┆              ┆ un-Eastwood  ┆          ┆        ┆ Drama,      ┆      │\n",
       "│            ┆              ┆              ┆ I was…       ┆          ┆        ┆ Mystery     ┆      │\n",
       "│ tt27403986 ┆ What is your ┆ 10           ┆ This movie   ┆ Juror #2 ┆ 7.0    ┆ Crime,      ┆ 2024 │\n",
       "│            ┆ moral        ┆              ┆ truly makes  ┆          ┆        ┆ Drama,      ┆      │\n",
       "│            ┆ compass?     ┆              ┆ you ref…     ┆          ┆        ┆ Mystery     ┆      │\n",
       "└────────────┴──────────────┴──────────────┴──────────────┴──────────┴────────┴─────────────┴──────┘"
      ]
     },
     "metadata": {},
     "output_type": "display_data"
    }
   ],
   "source": [
    "display(pl.read_parquet(\"data/standard/imdb_reviews.parquet\"))\n"
   ]
  },
  {
   "cell_type": "code",
   "execution_count": null,
   "id": "7620e01e",
   "metadata": {},
   "outputs": [],
   "source": []
  }
 ],
 "metadata": {
  "kernelspec": {
   "display_name": "chat-my-doc-app",
   "language": "python",
   "name": "python3"
  },
  "language_info": {
   "codemirror_mode": {
    "name": "ipython",
    "version": 3
   },
   "file_extension": ".py",
   "mimetype": "text/x-python",
   "name": "python",
   "nbconvert_exporter": "python",
   "pygments_lexer": "ipython3",
   "version": "3.12.11"
  }
 },
 "nbformat": 4,
 "nbformat_minor": 5
}
